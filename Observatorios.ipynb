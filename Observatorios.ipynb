{
 "cells": [
  {
   "cell_type": "code",
   "execution_count": 1,
   "id": "fb4889fe",
   "metadata": {},
   "outputs": [],
   "source": [
    "#Primero importamos algunas librerias\n",
    "import pandas as pd\n",
    "import geopandas as gpd\n",
    "import numpy as np\n",
    "import matplotlib.pyplot as plt\n",
    "import geemap,ee\n",
    "import matplotlib.colors as colors\n",
    "from shapely.geometry import shape, box\n",
    "from matplotlib import colors\n",
    "import matplotlib.patches as mpatches\n",
    "from shapely.geometry import MultiPolygon\n",
    "import matplotlib.pyplot as plt\n",
    "import os"
   ]
  },
  {
   "cell_type": "code",
   "execution_count": 2,
   "id": "6aefb5a3",
   "metadata": {},
   "outputs": [
    {
     "data": {
      "text/html": [
       "\n",
       "            <style>\n",
       "                .geemap-dark {\n",
       "                    --jp-widgets-color: white;\n",
       "                    --jp-widgets-label-color: white;\n",
       "                    --jp-ui-font-color1: white;\n",
       "                    --jp-layout-color2: #454545;\n",
       "                    background-color: #383838;\n",
       "                }\n",
       "\n",
       "                .geemap-dark .jupyter-button {\n",
       "                    --jp-layout-color3: #383838;\n",
       "                }\n",
       "\n",
       "                .geemap-colab {\n",
       "                    background-color: var(--colab-primary-surface-color, white);\n",
       "                }\n",
       "\n",
       "                .geemap-colab .jupyter-button {\n",
       "                    --jp-layout-color3: var(--colab-primary-surface-color, white);\n",
       "                }\n",
       "            </style>\n",
       "            "
      ],
      "text/plain": [
       "<IPython.core.display.HTML object>"
      ]
     },
     "metadata": {},
     "output_type": "display_data"
    }
   ],
   "source": [
    "ee.Authenticate()\n",
    "# ee.Initialize(project='ee-ccamz2')\n",
    "ee.Initialize(project='ee-tomasromero')"
   ]
  },
  {
   "cell_type": "code",
   "execution_count": 3,
   "id": "b8ea28fd",
   "metadata": {},
   "outputs": [
    {
     "data": {
      "text/html": [
       "\n",
       "            <style>\n",
       "                .geemap-dark {\n",
       "                    --jp-widgets-color: white;\n",
       "                    --jp-widgets-label-color: white;\n",
       "                    --jp-ui-font-color1: white;\n",
       "                    --jp-layout-color2: #454545;\n",
       "                    background-color: #383838;\n",
       "                }\n",
       "\n",
       "                .geemap-dark .jupyter-button {\n",
       "                    --jp-layout-color3: #383838;\n",
       "                }\n",
       "\n",
       "                .geemap-colab {\n",
       "                    background-color: var(--colab-primary-surface-color, white);\n",
       "                }\n",
       "\n",
       "                .geemap-colab .jupyter-button {\n",
       "                    --jp-layout-color3: var(--colab-primary-surface-color, white);\n",
       "                }\n",
       "            </style>\n",
       "            "
      ],
      "text/plain": [
       "<IPython.core.display.HTML object>"
      ]
     },
     "metadata": {},
     "output_type": "display_data"
    }
   ],
   "source": [
    "# Seleccionamos rango de fechas\n",
    "startDate= '2012-01-01'\n",
    "endDate = '2012-1-31'"
   ]
  },
  {
   "cell_type": "markdown",
   "id": "d2c9a551",
   "metadata": {},
   "source": [
    "# Observatorios"
   ]
  },
  {
   "cell_type": "markdown",
   "id": "85fbf8ac",
   "metadata": {},
   "source": [
    "Cargamos el mapa de Chile, seleccionamos las regiones que nos interesan, y eliminamos las islas del mapa"
   ]
  },
  {
   "cell_type": "code",
   "execution_count": 4,
   "id": "00647913",
   "metadata": {},
   "outputs": [
    {
     "data": {
      "text/html": [
       "\n",
       "            <style>\n",
       "                .geemap-dark {\n",
       "                    --jp-widgets-color: white;\n",
       "                    --jp-widgets-label-color: white;\n",
       "                    --jp-ui-font-color1: white;\n",
       "                    --jp-layout-color2: #454545;\n",
       "                    background-color: #383838;\n",
       "                }\n",
       "\n",
       "                .geemap-dark .jupyter-button {\n",
       "                    --jp-layout-color3: #383838;\n",
       "                }\n",
       "\n",
       "                .geemap-colab {\n",
       "                    background-color: var(--colab-primary-surface-color, white);\n",
       "                }\n",
       "\n",
       "                .geemap-colab .jupyter-button {\n",
       "                    --jp-layout-color3: var(--colab-primary-surface-color, white);\n",
       "                }\n",
       "            </style>\n",
       "            "
      ],
      "text/plain": [
       "<IPython.core.display.HTML object>"
      ]
     },
     "metadata": {},
     "output_type": "display_data"
    }
   ],
   "source": [
    "chile = gpd.read_file('Datos/Regiones/Regional.shp').to_crs(epsg=4326).to_crs(epsg=32719)\n",
    "chile = chile[chile['codregion'].isin([2, 3, 4, 5, 13])]"
   ]
  },
  {
   "cell_type": "code",
   "execution_count": 5,
   "id": "5acb5359",
   "metadata": {},
   "outputs": [
    {
     "data": {
      "text/html": [
       "\n",
       "            <style>\n",
       "                .geemap-dark {\n",
       "                    --jp-widgets-color: white;\n",
       "                    --jp-widgets-label-color: white;\n",
       "                    --jp-ui-font-color1: white;\n",
       "                    --jp-layout-color2: #454545;\n",
       "                    background-color: #383838;\n",
       "                }\n",
       "\n",
       "                .geemap-dark .jupyter-button {\n",
       "                    --jp-layout-color3: #383838;\n",
       "                }\n",
       "\n",
       "                .geemap-colab {\n",
       "                    background-color: var(--colab-primary-surface-color, white);\n",
       "                }\n",
       "\n",
       "                .geemap-colab .jupyter-button {\n",
       "                    --jp-layout-color3: var(--colab-primary-surface-color, white);\n",
       "                }\n",
       "            </style>\n",
       "            "
      ],
      "text/plain": [
       "<IPython.core.display.HTML object>"
      ]
     },
     "metadata": {},
     "output_type": "display_data"
    }
   ],
   "source": [
    "#Funcion dada por chatGpt para eliminar las islas y podamos plotear correctamente Chile continental\n",
    "def keep_only_mainland(geom):\n",
    "    if geom.geom_type == 'Polygon':\n",
    "        return geom\n",
    "    elif geom.geom_type == 'MultiPolygon':\n",
    "        # Se queda con el polígono de mayor área\n",
    "        largest = max(geom.geoms, key=lambda g: g.area)\n",
    "        return largest\n",
    "    else:\n",
    "        return geom"
   ]
  },
  {
   "cell_type": "code",
   "execution_count": 6,
   "id": "a8de0c28",
   "metadata": {},
   "outputs": [
    {
     "data": {
      "text/html": [
       "\n",
       "            <style>\n",
       "                .geemap-dark {\n",
       "                    --jp-widgets-color: white;\n",
       "                    --jp-widgets-label-color: white;\n",
       "                    --jp-ui-font-color1: white;\n",
       "                    --jp-layout-color2: #454545;\n",
       "                    background-color: #383838;\n",
       "                }\n",
       "\n",
       "                .geemap-dark .jupyter-button {\n",
       "                    --jp-layout-color3: #383838;\n",
       "                }\n",
       "\n",
       "                .geemap-colab {\n",
       "                    background-color: var(--colab-primary-surface-color, white);\n",
       "                }\n",
       "\n",
       "                .geemap-colab .jupyter-button {\n",
       "                    --jp-layout-color3: var(--colab-primary-surface-color, white);\n",
       "                }\n",
       "            </style>\n",
       "            "
      ],
      "text/plain": [
       "<IPython.core.display.HTML object>"
      ]
     },
     "metadata": {},
     "output_type": "display_data"
    }
   ],
   "source": [
    "# Aplicar a todas las geometrías\n",
    "chile['geometry'] = chile['geometry'].apply(keep_only_mainland)"
   ]
  },
  {
   "cell_type": "markdown",
   "id": "e9a131d3",
   "metadata": {},
   "source": [
    "Cargamos los observatorios en Chile"
   ]
  },
  {
   "cell_type": "code",
   "execution_count": 7,
   "id": "642cf01c",
   "metadata": {},
   "outputs": [
    {
     "data": {
      "text/html": [
       "\n",
       "            <style>\n",
       "                .geemap-dark {\n",
       "                    --jp-widgets-color: white;\n",
       "                    --jp-widgets-label-color: white;\n",
       "                    --jp-ui-font-color1: white;\n",
       "                    --jp-layout-color2: #454545;\n",
       "                    background-color: #383838;\n",
       "                }\n",
       "\n",
       "                .geemap-dark .jupyter-button {\n",
       "                    --jp-layout-color3: #383838;\n",
       "                }\n",
       "\n",
       "                .geemap-colab {\n",
       "                    background-color: var(--colab-primary-surface-color, white);\n",
       "                }\n",
       "\n",
       "                .geemap-colab .jupyter-button {\n",
       "                    --jp-layout-color3: var(--colab-primary-surface-color, white);\n",
       "                }\n",
       "            </style>\n",
       "            "
      ],
      "text/plain": [
       "<IPython.core.display.HTML object>"
      ]
     },
     "metadata": {},
     "output_type": "display_data"
    },
    {
     "data": {
      "text/html": [
       "<div>\n",
       "<style scoped>\n",
       "    .dataframe tbody tr th:only-of-type {\n",
       "        vertical-align: middle;\n",
       "    }\n",
       "\n",
       "    .dataframe tbody tr th {\n",
       "        vertical-align: top;\n",
       "    }\n",
       "\n",
       "    .dataframe thead th {\n",
       "        text-align: right;\n",
       "    }\n",
       "</style>\n",
       "<table border=\"1\" class=\"dataframe\">\n",
       "  <thead>\n",
       "    <tr style=\"text-align: right;\">\n",
       "      <th></th>\n",
       "      <th>Nombre</th>\n",
       "      <th>Altitud (m</th>\n",
       "      <th>Ubicación</th>\n",
       "      <th>Tipo</th>\n",
       "      <th>Estado</th>\n",
       "      <th>Año de In</th>\n",
       "      <th>Área Lent</th>\n",
       "      <th>geometry</th>\n",
       "    </tr>\n",
       "  </thead>\n",
       "  <tbody>\n",
       "    <tr>\n",
       "      <th>0</th>\n",
       "      <td>ALMA</td>\n",
       "      <td>5000</td>\n",
       "      <td>Llano de Chajnantor, Antofagasta</td>\n",
       "      <td>Radio</td>\n",
       "      <td>Operativo</td>\n",
       "      <td>2003</td>\n",
       "      <td>41001.06121734071</td>\n",
       "      <td>POINT (627616.73 7453491.29)</td>\n",
       "    </tr>\n",
       "    <tr>\n",
       "      <th>1</th>\n",
       "      <td>APEX</td>\n",
       "      <td>5100</td>\n",
       "      <td>Llano de Chajnantor, Antofagasta</td>\n",
       "      <td>Radio</td>\n",
       "      <td>Operativo</td>\n",
       "      <td>2003</td>\n",
       "      <td>113.09733552923257</td>\n",
       "      <td>POINT (627765.499 7455317.008)</td>\n",
       "    </tr>\n",
       "    <tr>\n",
       "      <th>2</th>\n",
       "      <td>ACT</td>\n",
       "      <td>5190</td>\n",
       "      <td>Cerro Toco, Antofagasta</td>\n",
       "      <td>Radio</td>\n",
       "      <td>Operativo</td>\n",
       "      <td>2007</td>\n",
       "      <td>28.274333882308134</td>\n",
       "      <td>POINT (624303.488 7460583.317)</td>\n",
       "    </tr>\n",
       "    <tr>\n",
       "      <th>3</th>\n",
       "      <td>Paranal (VLT)</td>\n",
       "      <td>2635</td>\n",
       "      <td>Cerro Paranal, Antofagasta</td>\n",
       "      <td>Óptico/Infrarrojo</td>\n",
       "      <td>Operativo</td>\n",
       "      <td>1991</td>\n",
       "      <td>211.23836840423655</td>\n",
       "      <td>POINT (357868.676 7275604.962)</td>\n",
       "    </tr>\n",
       "    <tr>\n",
       "      <th>4</th>\n",
       "      <td>ELT (en construcción)</td>\n",
       "      <td>3046</td>\n",
       "      <td>Cerro Armazones, Antofagasta</td>\n",
       "      <td>Óptico/Infrarrojo</td>\n",
       "      <td>En construcción</td>\n",
       "      <td>2014</td>\n",
       "      <td>1194.690595328151</td>\n",
       "      <td>POINT (379515.847 7279984.395)</td>\n",
       "    </tr>\n",
       "    <tr>\n",
       "      <th>5</th>\n",
       "      <td>La Silla</td>\n",
       "      <td>2400</td>\n",
       "      <td>Cerro La Silla, Coquimbo</td>\n",
       "      <td>Óptico</td>\n",
       "      <td>Operativo</td>\n",
       "      <td>1964</td>\n",
       "      <td>10.179015632055895</td>\n",
       "      <td>POINT (331448.229 6762171.263)</td>\n",
       "    </tr>\n",
       "    <tr>\n",
       "      <th>6</th>\n",
       "      <td>Cerro Tololo (CTIO)</td>\n",
       "      <td>2200</td>\n",
       "      <td>Cerro Tololo, Coquimbo</td>\n",
       "      <td>Óptico</td>\n",
       "      <td>Operativo</td>\n",
       "      <td>1963</td>\n",
       "      <td>12.566370614359172</td>\n",
       "      <td>POINT (326087.737 6661087.851)</td>\n",
       "    </tr>\n",
       "    <tr>\n",
       "      <th>7</th>\n",
       "      <td>Gemini Sur</td>\n",
       "      <td>2737</td>\n",
       "      <td>Cerro Pachón, Coquimbo</td>\n",
       "      <td>Óptico/Infrarrojo</td>\n",
       "      <td>Operativo</td>\n",
       "      <td>1994</td>\n",
       "      <td>51.51838900400386</td>\n",
       "      <td>POINT (332901.924 6653267.041)</td>\n",
       "    </tr>\n",
       "    <tr>\n",
       "      <th>8</th>\n",
       "      <td>Vera C. Rubin Observatory</td>\n",
       "      <td>2663</td>\n",
       "      <td>Cerro Pachón, Coquimbo</td>\n",
       "      <td>Óptico</td>\n",
       "      <td>En construcción</td>\n",
       "      <td>2014</td>\n",
       "      <td>55.41985163906199</td>\n",
       "      <td>POINT (331695.656 6652838.358)</td>\n",
       "    </tr>\n",
       "    <tr>\n",
       "      <th>9</th>\n",
       "      <td>Magellan (Las Campanas)</td>\n",
       "      <td>2400</td>\n",
       "      <td>Cerro Las Campanas, Atacama</td>\n",
       "      <td>Óptico</td>\n",
       "      <td>Operativo</td>\n",
       "      <td>1999</td>\n",
       "      <td>66.46813142637272</td>\n",
       "      <td>POINT (335160.68 6789237.888)</td>\n",
       "    </tr>\n",
       "    <tr>\n",
       "      <th>10</th>\n",
       "      <td>Giant Magellan Telescope (GMT)</td>\n",
       "      <td>2514</td>\n",
       "      <td>Cerro Las Campanas, Atacama</td>\n",
       "      <td>Óptico/Infrarrojo</td>\n",
       "      <td>En construcción</td>\n",
       "      <td>2012</td>\n",
       "      <td>506.7074790972215</td>\n",
       "      <td>POINT (336081.206 6785493.569)</td>\n",
       "    </tr>\n",
       "    <tr>\n",
       "      <th>11</th>\n",
       "      <td>Cerro El Roble Observatory</td>\n",
       "      <td>2222</td>\n",
       "      <td>Cerro El Roble, Valparaíso</td>\n",
       "      <td>Óptico</td>\n",
       "      <td>Operativo</td>\n",
       "      <td>1967</td>\n",
       "      <td>0.2827433388230814</td>\n",
       "      <td>POINT (291235.07 6352042.382)</td>\n",
       "    </tr>\n",
       "    <tr>\n",
       "      <th>12</th>\n",
       "      <td>Observatorio UC</td>\n",
       "      <td>1450</td>\n",
       "      <td>Lo Barnechea, Santiago</td>\n",
       "      <td>Óptico</td>\n",
       "      <td>Operativo</td>\n",
       "      <td>2000</td>\n",
       "      <td>0.196349540849362</td>\n",
       "      <td>POINT (357092.758 6317818.997)</td>\n",
       "    </tr>\n",
       "  </tbody>\n",
       "</table>\n",
       "</div>"
      ],
      "text/plain": [
       "                            Nombre Altitud (m  \\\n",
       "0                             ALMA       5000   \n",
       "1                             APEX       5100   \n",
       "2                              ACT       5190   \n",
       "3                    Paranal (VLT)       2635   \n",
       "4            ELT (en construcción)       3046   \n",
       "5                         La Silla       2400   \n",
       "6              Cerro Tololo (CTIO)       2200   \n",
       "7                       Gemini Sur       2737   \n",
       "8        Vera C. Rubin Observatory       2663   \n",
       "9          Magellan (Las Campanas)       2400   \n",
       "10  Giant Magellan Telescope (GMT)       2514   \n",
       "11      Cerro El Roble Observatory       2222   \n",
       "12                 Observatorio UC       1450   \n",
       "\n",
       "                           Ubicación               Tipo           Estado  \\\n",
       "0   Llano de Chajnantor, Antofagasta              Radio        Operativo   \n",
       "1   Llano de Chajnantor, Antofagasta              Radio        Operativo   \n",
       "2            Cerro Toco, Antofagasta              Radio        Operativo   \n",
       "3         Cerro Paranal, Antofagasta  Óptico/Infrarrojo        Operativo   \n",
       "4       Cerro Armazones, Antofagasta  Óptico/Infrarrojo  En construcción   \n",
       "5           Cerro La Silla, Coquimbo             Óptico        Operativo   \n",
       "6             Cerro Tololo, Coquimbo             Óptico        Operativo   \n",
       "7             Cerro Pachón, Coquimbo  Óptico/Infrarrojo        Operativo   \n",
       "8             Cerro Pachón, Coquimbo             Óptico  En construcción   \n",
       "9        Cerro Las Campanas, Atacama             Óptico        Operativo   \n",
       "10       Cerro Las Campanas, Atacama  Óptico/Infrarrojo  En construcción   \n",
       "11        Cerro El Roble, Valparaíso             Óptico        Operativo   \n",
       "12            Lo Barnechea, Santiago             Óptico        Operativo   \n",
       "\n",
       "   Año de In           Área Lent                        geometry  \n",
       "0       2003   41001.06121734071    POINT (627616.73 7453491.29)  \n",
       "1       2003  113.09733552923257  POINT (627765.499 7455317.008)  \n",
       "2       2007  28.274333882308134  POINT (624303.488 7460583.317)  \n",
       "3       1991  211.23836840423655  POINT (357868.676 7275604.962)  \n",
       "4       2014   1194.690595328151  POINT (379515.847 7279984.395)  \n",
       "5       1964  10.179015632055895  POINT (331448.229 6762171.263)  \n",
       "6       1963  12.566370614359172  POINT (326087.737 6661087.851)  \n",
       "7       1994   51.51838900400386  POINT (332901.924 6653267.041)  \n",
       "8       2014   55.41985163906199  POINT (331695.656 6652838.358)  \n",
       "9       1999   66.46813142637272   POINT (335160.68 6789237.888)  \n",
       "10      2012   506.7074790972215  POINT (336081.206 6785493.569)  \n",
       "11      1967  0.2827433388230814   POINT (291235.07 6352042.382)  \n",
       "12      2000   0.196349540849362  POINT (357092.758 6317818.997)  "
      ]
     },
     "execution_count": 7,
     "metadata": {},
     "output_type": "execute_result"
    }
   ],
   "source": [
    "obs = gpd.read_file('Datos/observatorios_filtrados/observatorios_filtrados.shp')\n",
    "obs"
   ]
  },
  {
   "cell_type": "code",
   "execution_count": 8,
   "id": "d06ad17a",
   "metadata": {},
   "outputs": [
    {
     "data": {
      "text/html": [
       "\n",
       "            <style>\n",
       "                .geemap-dark {\n",
       "                    --jp-widgets-color: white;\n",
       "                    --jp-widgets-label-color: white;\n",
       "                    --jp-ui-font-color1: white;\n",
       "                    --jp-layout-color2: #454545;\n",
       "                    background-color: #383838;\n",
       "                }\n",
       "\n",
       "                .geemap-dark .jupyter-button {\n",
       "                    --jp-layout-color3: #383838;\n",
       "                }\n",
       "\n",
       "                .geemap-colab {\n",
       "                    background-color: var(--colab-primary-surface-color, white);\n",
       "                }\n",
       "\n",
       "                .geemap-colab .jupyter-button {\n",
       "                    --jp-layout-color3: var(--colab-primary-surface-color, white);\n",
       "                }\n",
       "            </style>\n",
       "            "
      ],
      "text/plain": [
       "<IPython.core.display.HTML object>"
      ]
     },
     "metadata": {},
     "output_type": "display_data"
    },
    {
     "data": {
      "image/png": "[encoded data removed]",
      "text/plain": [
       "<Figure size 1000x1000 with 1 Axes>"
      ]
     },
     "metadata": {},
     "output_type": "display_data"
    }
   ],
   "source": [
    "chile.to_crs(obs.crs, inplace=True)\n",
    "chile.plot(color='white', edgecolor='black', figsize=(10, 10))\n",
    "obs.plot(ax=plt.gca(), color='red', markersize=5)\n",
    "plt.title('Observatorios en Chile')\n",
    "plt.show()"
   ]
  },
  {
   "cell_type": "markdown",
   "id": "e68d6736",
   "metadata": {},
   "source": [
    "## Contaminacion Luminica\n",
    "[Nighttime Lights Time Series Version 4](https://developers.google.com/earth-engine/datasets/catalog/NOAA_DMSP-OLS_NIGHTTIME_LIGHTS?hl=es-419)"
   ]
  },
  {
   "cell_type": "code",
   "execution_count": 9,
   "id": "2e0eda40",
   "metadata": {},
   "outputs": [
    {
     "data": {
      "text/html": [
       "\n",
       "            <style>\n",
       "                .geemap-dark {\n",
       "                    --jp-widgets-color: white;\n",
       "                    --jp-widgets-label-color: white;\n",
       "                    --jp-ui-font-color1: white;\n",
       "                    --jp-layout-color2: #454545;\n",
       "                    background-color: #383838;\n",
       "                }\n",
       "\n",
       "                .geemap-dark .jupyter-button {\n",
       "                    --jp-layout-color3: #383838;\n",
       "                }\n",
       "\n",
       "                .geemap-colab {\n",
       "                    background-color: var(--colab-primary-surface-color, white);\n",
       "                }\n",
       "\n",
       "                .geemap-colab .jupyter-button {\n",
       "                    --jp-layout-color3: var(--colab-primary-surface-color, white);\n",
       "                }\n",
       "            </style>\n",
       "            "
      ],
      "text/plain": [
       "<IPython.core.display.HTML object>"
      ]
     },
     "metadata": {},
     "output_type": "display_data"
    }
   ],
   "source": [
    "collection = (ee.ImageCollection(\"NOAA/DMSP-OLS/NIGHTTIME_LIGHTS\").filterDate(startDate, endDate))"
   ]
  },
  {
   "cell_type": "code",
   "execution_count": 10,
   "id": "f0a1c873",
   "metadata": {},
   "outputs": [
    {
     "data": {
      "text/html": [
       "\n",
       "            <style>\n",
       "                .geemap-dark {\n",
       "                    --jp-widgets-color: white;\n",
       "                    --jp-widgets-label-color: white;\n",
       "                    --jp-ui-font-color1: white;\n",
       "                    --jp-layout-color2: #454545;\n",
       "                    background-color: #383838;\n",
       "                }\n",
       "\n",
       "                .geemap-dark .jupyter-button {\n",
       "                    --jp-layout-color3: #383838;\n",
       "                }\n",
       "\n",
       "                .geemap-colab {\n",
       "                    background-color: var(--colab-primary-surface-color, white);\n",
       "                }\n",
       "\n",
       "                .geemap-colab .jupyter-button {\n",
       "                    --jp-layout-color3: var(--colab-primary-surface-color, white);\n",
       "                }\n",
       "            </style>\n",
       "            "
      ],
      "text/plain": [
       "<IPython.core.display.HTML object>"
      ]
     },
     "metadata": {},
     "output_type": "display_data"
    }
   ],
   "source": [
    "# Selecciona la imagen promedio del año\n",
    "cL = collection.mean()\n",
    "\n",
    "# Selecciona la banda de intensidad de luces nocturnas\n",
    "cL = cL.select('stable_lights')\n",
    "\n",
    "# Define parámetros de visualización\n",
    "cL_vis_params = {\n",
    "    'min': 0,\n",
    "    'max': 63,\n",
    "    'palette': ['000000', 'ffff00', 'ffffff']\n",
    "}"
   ]
  },
  {
   "cell_type": "code",
   "execution_count": 11,
   "id": "021e9d0a",
   "metadata": {},
   "outputs": [
    {
     "data": {
      "text/html": [
       "\n",
       "            <style>\n",
       "                .geemap-dark {\n",
       "                    --jp-widgets-color: white;\n",
       "                    --jp-widgets-label-color: white;\n",
       "                    --jp-ui-font-color1: white;\n",
       "                    --jp-layout-color2: #454545;\n",
       "                    background-color: #383838;\n",
       "                }\n",
       "\n",
       "                .geemap-dark .jupyter-button {\n",
       "                    --jp-layout-color3: #383838;\n",
       "                }\n",
       "\n",
       "                .geemap-colab {\n",
       "                    background-color: var(--colab-primary-surface-color, white);\n",
       "                }\n",
       "\n",
       "                .geemap-colab .jupyter-button {\n",
       "                    --jp-layout-color3: var(--colab-primary-surface-color, white);\n",
       "                }\n",
       "            </style>\n",
       "            "
      ],
      "text/plain": [
       "<IPython.core.display.HTML object>"
      ]
     },
     "metadata": {},
     "output_type": "display_data"
    },
    {
     "data": {
      "application/vnd.jupyter.widget-view+json": {
       "model_id": "4c2c80a9cc8f49079c75d61e5895efc7",
       "version_major": 2,
       "version_minor": 0
      },
      "text/plain": [
       "Map(center=[20, 0], controls=(WidgetControl(options=['position', 'transparent_bg'], widget=SearchDataGUI(child…"
      ]
     },
     "execution_count": 11,
     "metadata": {},
     "output_type": "execute_result"
    }
   ],
   "source": [
    "# Crea un mapa interactivo\n",
    "Map = geemap.Map(center=[20, 0], zoom=2)\n",
    "Map.addLayer(cL, cL_vis_params, 'Luces nocturnas (promedio)')\n",
    "Map.addLayerControl()\n",
    "Map"
   ]
  },
  {
   "cell_type": "markdown",
   "id": "64ab3285",
   "metadata": {},
   "source": [
    "## Nubosidad\n",
    "[Terra Atmosphere Monthly Global Product](https://developers.google.com/earth-engine/datasets/catalog/MODIS_061_MOD08_M3?hl=es-419)"
   ]
  },
  {
   "cell_type": "code",
   "execution_count": 12,
   "id": "f6f72849",
   "metadata": {},
   "outputs": [
    {
     "data": {
      "text/html": [
       "\n",
       "            <style>\n",
       "                .geemap-dark {\n",
       "                    --jp-widgets-color: white;\n",
       "                    --jp-widgets-label-color: white;\n",
       "                    --jp-ui-font-color1: white;\n",
       "                    --jp-layout-color2: #454545;\n",
       "                    background-color: #383838;\n",
       "                }\n",
       "\n",
       "                .geemap-dark .jupyter-button {\n",
       "                    --jp-layout-color3: #383838;\n",
       "                }\n",
       "\n",
       "                .geemap-colab {\n",
       "                    background-color: var(--colab-primary-surface-color, white);\n",
       "                }\n",
       "\n",
       "                .geemap-colab .jupyter-button {\n",
       "                    --jp-layout-color3: var(--colab-primary-surface-color, white);\n",
       "                }\n",
       "            </style>\n",
       "            "
      ],
      "text/plain": [
       "<IPython.core.display.HTML object>"
      ]
     },
     "metadata": {},
     "output_type": "display_data"
    }
   ],
   "source": [
    "collection = (ee.ImageCollection(\"MODIS/061/MOD08_M3\").filterDate(startDate, endDate))"
   ]
  },
  {
   "cell_type": "markdown",
   "id": "9eaac2df",
   "metadata": {},
   "source": [
    "## Elevacion\n",
    "[NASA SRTM Digital Elevation 30m](https://developers.google.com/earth-engine/datasets/catalog/USGS_SRTMGL1_003?hl=es-419)"
   ]
  },
  {
   "cell_type": "markdown",
   "id": "cf70c230",
   "metadata": {},
   "source": [
    "## Precipitacion\n",
    "[TCHIRPS Daily: Climate Hazards Center InfraRed Precipitation](https://developers.google.com/earth-engine/datasets/catalog/UCSB-CHG_CHIRPS_DAILY?hl=es-419)"
   ]
  },
  {
   "cell_type": "markdown",
   "id": "f8f894eb",
   "metadata": {},
   "source": [
    "## Calidad del aire\n",
    "[Terra & Aqua MAIAC Land Aerosol Profundidad óptica Diario 1 km](https://developers.google.com/earth-engine/datasets/catalog/MODIS_061_MCD19A2_GRANULES?hl=es-419)"
   ]
  },
  {
   "cell_type": "markdown",
   "id": "a049bef2",
   "metadata": {},
   "source": [
    "## Gases Atmosfericos\n",
    "[Sentinel-5P OFFL AER AI: Índice de Aerosol UV fuera de línea ](https://developers.google.com/earth-engine/datasets/catalog/COPERNICUS_S5P_OFFL_L3_AER_AI?hl=es-419)"
   ]
  },
  {
   "cell_type": "markdown",
   "id": "0a94fda2",
   "metadata": {},
   "source": [
    "## Uso del Suelo\n",
    "[ESA WorldCover 10m v100](https://developers.google.com/earth-engine/datasets/catalog/ESA_WorldCover_v100?hl=es-419)"
   ]
  },
  {
   "cell_type": "markdown",
   "id": "c58e66fe",
   "metadata": {},
   "source": [
    "## Urbanizacion Historica\n",
    "[Landsat 8-9](https://developers.google.com/earth-engine/datasets/catalog/LANDSAT_LC08_C02_T1_L2?hl=es-419)"
   ]
  }
 ],
 "metadata": {
  "kernelspec": {
   "display_name": "Python 3",
   "language": "python",
   "name": "python3"
  },
  "language_info": {
   "codemirror_mode": {
    "name": "ipython",
    "version": 3
   },
   "file_extension": ".py",
   "mimetype": "text/x-python",
   "name": "python",
   "nbconvert_exporter": "python",
   "pygments_lexer": "ipython3",
   "version": "3.12.9"
  }
 },
 "nbformat": 4,
 "nbformat_minor": 5
}
