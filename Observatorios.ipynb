{
 "cells": [
  {
   "cell_type": "code",
   "execution_count": 1,
   "id": "fb4889fe",
   "metadata": {},
   "outputs": [],
   "source": [
    "#Primero importamos algunas librerias\n",
    "import pandas as pd\n",
    "import geopandas as gpd\n",
    "import numpy as np\n",
    "import matplotlib.pyplot as plt\n",
    "import geemap,ee\n",
    "import matplotlib.colors as colors\n",
    "from shapely.geometry import shape, box\n",
    "from matplotlib import colors\n",
    "import matplotlib.patches as mpatches\n",
    "from shapely.geometry import MultiPolygon\n",
    "import matplotlib.pyplot as plt\n",
    "import requests\n",
    "from io import BytesIO\n",
    "from PIL import Image\n",
    "import os"
   ]
  },
  {
   "cell_type": "code",
   "execution_count": 2,
   "id": "6aefb5a3",
   "metadata": {},
   "outputs": [
    {
     "data": {
      "text/html": [
       "\n",
       "            <style>\n",
       "                .geemap-dark {\n",
       "                    --jp-widgets-color: white;\n",
       "                    --jp-widgets-label-color: white;\n",
       "                    --jp-ui-font-color1: white;\n",
       "                    --jp-layout-color2: #454545;\n",
       "                    background-color: #383838;\n",
       "                }\n",
       "\n",
       "                .geemap-dark .jupyter-button {\n",
       "                    --jp-layout-color3: #383838;\n",
       "                }\n",
       "\n",
       "                .geemap-colab {\n",
       "                    background-color: var(--colab-primary-surface-color, white);\n",
       "                }\n",
       "\n",
       "                .geemap-colab .jupyter-button {\n",
       "                    --jp-layout-color3: var(--colab-primary-surface-color, white);\n",
       "                }\n",
       "            </style>\n",
       "            "
      ],
      "text/plain": [
       "<IPython.core.display.HTML object>"
      ]
     },
     "metadata": {},
     "output_type": "display_data"
    }
   ],
   "source": [
    "ee.Authenticate()\n",
    "# ee.Initialize(project='ee-ccamz2')\n",
    "ee.Initialize(project='ee-tomasroar')"
   ]
  },
  {
   "cell_type": "code",
   "execution_count": 3,
   "id": "b8ea28fd",
   "metadata": {},
   "outputs": [
    {
     "data": {
      "text/html": [
       "\n",
       "            <style>\n",
       "                .geemap-dark {\n",
       "                    --jp-widgets-color: white;\n",
       "                    --jp-widgets-label-color: white;\n",
       "                    --jp-ui-font-color1: white;\n",
       "                    --jp-layout-color2: #454545;\n",
       "                    background-color: #383838;\n",
       "                }\n",
       "\n",
       "                .geemap-dark .jupyter-button {\n",
       "                    --jp-layout-color3: #383838;\n",
       "                }\n",
       "\n",
       "                .geemap-colab {\n",
       "                    background-color: var(--colab-primary-surface-color, white);\n",
       "                }\n",
       "\n",
       "                .geemap-colab .jupyter-button {\n",
       "                    --jp-layout-color3: var(--colab-primary-surface-color, white);\n",
       "                }\n",
       "            </style>\n",
       "            "
      ],
      "text/plain": [
       "<IPython.core.display.HTML object>"
      ]
     },
     "metadata": {},
     "output_type": "display_data"
    }
   ],
   "source": [
    "# Seleccionamos rango de fechas\n",
    "startDate= '2024-01-01'\n",
    "endDate = '2025-01-01'"
   ]
  },
  {
   "cell_type": "markdown",
   "id": "d2c9a551",
   "metadata": {},
   "source": [
    "# Observatorios"
   ]
  },
  {
   "cell_type": "markdown",
   "id": "85fbf8ac",
   "metadata": {},
   "source": [
    "Cargamos el mapa de Chile, seleccionamos las regiones que nos interesan, y eliminamos las islas del mapa"
   ]
  },
  {
   "cell_type": "code",
   "execution_count": 4,
   "id": "00647913",
   "metadata": {},
   "outputs": [
    {
     "data": {
      "text/html": [
       "\n",
       "            <style>\n",
       "                .geemap-dark {\n",
       "                    --jp-widgets-color: white;\n",
       "                    --jp-widgets-label-color: white;\n",
       "                    --jp-ui-font-color1: white;\n",
       "                    --jp-layout-color2: #454545;\n",
       "                    background-color: #383838;\n",
       "                }\n",
       "\n",
       "                .geemap-dark .jupyter-button {\n",
       "                    --jp-layout-color3: #383838;\n",
       "                }\n",
       "\n",
       "                .geemap-colab {\n",
       "                    background-color: var(--colab-primary-surface-color, white);\n",
       "                }\n",
       "\n",
       "                .geemap-colab .jupyter-button {\n",
       "                    --jp-layout-color3: var(--colab-primary-surface-color, white);\n",
       "                }\n",
       "            </style>\n",
       "            "
      ],
      "text/plain": [
       "<IPython.core.display.HTML object>"
      ]
     },
     "metadata": {},
     "output_type": "display_data"
    },
    {
     "data": {
      "text/html": [
       "<div>\n",
       "<style scoped>\n",
       "    .dataframe tbody tr th:only-of-type {\n",
       "        vertical-align: middle;\n",
       "    }\n",
       "\n",
       "    .dataframe tbody tr th {\n",
       "        vertical-align: top;\n",
       "    }\n",
       "\n",
       "    .dataframe thead th {\n",
       "        text-align: right;\n",
       "    }\n",
       "</style>\n",
       "<table border=\"1\" class=\"dataframe\">\n",
       "  <thead>\n",
       "    <tr style=\"text-align: right;\">\n",
       "      <th></th>\n",
       "      <th>objectid</th>\n",
       "      <th>shape_leng</th>\n",
       "      <th>dis_elec</th>\n",
       "      <th>cir_sena</th>\n",
       "      <th>cod_comuna</th>\n",
       "      <th>codregion</th>\n",
       "      <th>st_area_sh</th>\n",
       "      <th>st_length_</th>\n",
       "      <th>Region</th>\n",
       "      <th>Comuna</th>\n",
       "      <th>Provincia</th>\n",
       "      <th>geometry</th>\n",
       "    </tr>\n",
       "  </thead>\n",
       "  <tbody>\n",
       "    <tr>\n",
       "      <th>26</th>\n",
       "      <td>330</td>\n",
       "      <td>13987.326781</td>\n",
       "      <td>10</td>\n",
       "      <td>7</td>\n",
       "      <td>13129</td>\n",
       "      <td>13</td>\n",
       "      <td>1.424341e+07</td>\n",
       "      <td>16812.167615</td>\n",
       "      <td>Región Metropolitana de Santiago</td>\n",
       "      <td>San Joaquín</td>\n",
       "      <td>Santiago</td>\n",
       "      <td>POLYGON ((-70.62342 -33.47338, -70.62292 -33.4...</td>\n",
       "    </tr>\n",
       "    <tr>\n",
       "      <th>36</th>\n",
       "      <td>331</td>\n",
       "      <td>13311.641304</td>\n",
       "      <td>13</td>\n",
       "      <td>7</td>\n",
       "      <td>13130</td>\n",
       "      <td>13</td>\n",
       "      <td>1.389538e+07</td>\n",
       "      <td>15988.816037</td>\n",
       "      <td>Región Metropolitana de Santiago</td>\n",
       "      <td>San Miguel</td>\n",
       "      <td>Santiago</td>\n",
       "      <td>POLYGON ((-70.63659 -33.51873, -70.6374 -33.51...</td>\n",
       "    </tr>\n",
       "    <tr>\n",
       "      <th>46</th>\n",
       "      <td>66</td>\n",
       "      <td>134800.837330</td>\n",
       "      <td>5</td>\n",
       "      <td>5</td>\n",
       "      <td>4103</td>\n",
       "      <td>4</td>\n",
       "      <td>6.897651e+08</td>\n",
       "      <td>156310.933278</td>\n",
       "      <td>Región de Coquimbo</td>\n",
       "      <td>Andacollo</td>\n",
       "      <td>Elqui</td>\n",
       "      <td>POLYGON ((-71.12438 -30.11141, -71.12418 -30.1...</td>\n",
       "    </tr>\n",
       "    <tr>\n",
       "      <th>47</th>\n",
       "      <td>332</td>\n",
       "      <td>11733.486710</td>\n",
       "      <td>13</td>\n",
       "      <td>7</td>\n",
       "      <td>13131</td>\n",
       "      <td>13</td>\n",
       "      <td>9.056280e+06</td>\n",
       "      <td>14061.528858</td>\n",
       "      <td>Región Metropolitana de Santiago</td>\n",
       "      <td>San Ramón</td>\n",
       "      <td>Santiago</td>\n",
       "      <td>POLYGON ((-70.63811 -33.51868, -70.6374 -33.51...</td>\n",
       "    </tr>\n",
       "    <tr>\n",
       "      <th>57</th>\n",
       "      <td>309</td>\n",
       "      <td>11488.695747</td>\n",
       "      <td>9</td>\n",
       "      <td>7</td>\n",
       "      <td>13108</td>\n",
       "      <td>13</td>\n",
       "      <td>1.068637e+07</td>\n",
       "      <td>14088.417488</td>\n",
       "      <td>Región Metropolitana de Santiago</td>\n",
       "      <td>Independencia</td>\n",
       "      <td>Santiago</td>\n",
       "      <td>POLYGON ((-70.65817 -33.39914, -70.65827 -33.3...</td>\n",
       "    </tr>\n",
       "  </tbody>\n",
       "</table>\n",
       "</div>"
      ],
      "text/plain": [
       "    objectid     shape_leng  dis_elec  cir_sena  cod_comuna  codregion  \\\n",
       "26       330   13987.326781        10         7       13129         13   \n",
       "36       331   13311.641304        13         7       13130         13   \n",
       "46        66  134800.837330         5         5        4103          4   \n",
       "47       332   11733.486710        13         7       13131         13   \n",
       "57       309   11488.695747         9         7       13108         13   \n",
       "\n",
       "      st_area_sh     st_length_                            Region  \\\n",
       "26  1.424341e+07   16812.167615  Región Metropolitana de Santiago   \n",
       "36  1.389538e+07   15988.816037  Región Metropolitana de Santiago   \n",
       "46  6.897651e+08  156310.933278                Región de Coquimbo   \n",
       "47  9.056280e+06   14061.528858  Región Metropolitana de Santiago   \n",
       "57  1.068637e+07   14088.417488  Región Metropolitana de Santiago   \n",
       "\n",
       "           Comuna Provincia                                           geometry  \n",
       "26    San Joaquín  Santiago  POLYGON ((-70.62342 -33.47338, -70.62292 -33.4...  \n",
       "36     San Miguel  Santiago  POLYGON ((-70.63659 -33.51873, -70.6374 -33.51...  \n",
       "46      Andacollo     Elqui  POLYGON ((-71.12438 -30.11141, -71.12418 -30.1...  \n",
       "47      San Ramón  Santiago  POLYGON ((-70.63811 -33.51868, -70.6374 -33.51...  \n",
       "57  Independencia  Santiago  POLYGON ((-70.65817 -33.39914, -70.65827 -33.3...  "
      ]
     },
     "execution_count": 4,
     "metadata": {},
     "output_type": "execute_result"
    }
   ],
   "source": [
    "chile = gpd.read_file('Datos/Comunas/Comunas.shp').to_crs(epsg=4326)#.to_crs(epsg=32719)\n",
    "chile = chile[chile['codregion'].isin([2, 3, 4, 5, 13])]\n",
    "#quitamos isla de pascua y juan fernandez<\n",
    "chile = chile[~chile['Comuna'].isin(['Isla de Pascua', 'Juan Fernández'])]\n",
    "chile.head(5)"
   ]
  },
  {
   "cell_type": "code",
   "execution_count": 5,
   "id": "5acb5359",
   "metadata": {},
   "outputs": [
    {
     "data": {
      "text/html": [
       "\n",
       "            <style>\n",
       "                .geemap-dark {\n",
       "                    --jp-widgets-color: white;\n",
       "                    --jp-widgets-label-color: white;\n",
       "                    --jp-ui-font-color1: white;\n",
       "                    --jp-layout-color2: #454545;\n",
       "                    background-color: #383838;\n",
       "                }\n",
       "\n",
       "                .geemap-dark .jupyter-button {\n",
       "                    --jp-layout-color3: #383838;\n",
       "                }\n",
       "\n",
       "                .geemap-colab {\n",
       "                    background-color: var(--colab-primary-surface-color, white);\n",
       "                }\n",
       "\n",
       "                .geemap-colab .jupyter-button {\n",
       "                    --jp-layout-color3: var(--colab-primary-surface-color, white);\n",
       "                }\n",
       "            </style>\n",
       "            "
      ],
      "text/plain": [
       "<IPython.core.display.HTML object>"
      ]
     },
     "metadata": {},
     "output_type": "display_data"
    }
   ],
   "source": [
    "#Funcion dada por chatGpt para eliminar las islas y podamos plotear correctamente Chile continental\n",
    "def keep_only_mainland(geom):\n",
    "    if geom.geom_type == 'Polygon':\n",
    "        return geom\n",
    "    elif geom.geom_type == 'MultiPolygon':\n",
    "        # Se queda con el polígono de mayor área\n",
    "        largest = max(geom.geoms, key=lambda g: g.area)\n",
    "        return largest\n",
    "    else:\n",
    "        return geom"
   ]
  },
  {
   "cell_type": "code",
   "execution_count": 6,
   "id": "a8de0c28",
   "metadata": {},
   "outputs": [
    {
     "data": {
      "text/html": [
       "\n",
       "            <style>\n",
       "                .geemap-dark {\n",
       "                    --jp-widgets-color: white;\n",
       "                    --jp-widgets-label-color: white;\n",
       "                    --jp-ui-font-color1: white;\n",
       "                    --jp-layout-color2: #454545;\n",
       "                    background-color: #383838;\n",
       "                }\n",
       "\n",
       "                .geemap-dark .jupyter-button {\n",
       "                    --jp-layout-color3: #383838;\n",
       "                }\n",
       "\n",
       "                .geemap-colab {\n",
       "                    background-color: var(--colab-primary-surface-color, white);\n",
       "                }\n",
       "\n",
       "                .geemap-colab .jupyter-button {\n",
       "                    --jp-layout-color3: var(--colab-primary-surface-color, white);\n",
       "                }\n",
       "            </style>\n",
       "            "
      ],
      "text/plain": [
       "<IPython.core.display.HTML object>"
      ]
     },
     "metadata": {},
     "output_type": "display_data"
    }
   ],
   "source": [
    "# Aplicar a todas las geometrías\n",
    "chile['geometry'] = chile['geometry'].apply(keep_only_mainland)"
   ]
  },
  {
   "cell_type": "markdown",
   "id": "e9a131d3",
   "metadata": {},
   "source": [
    "Cargamos los observatorios en Chile"
   ]
  },
  {
   "cell_type": "code",
   "execution_count": 7,
   "id": "642cf01c",
   "metadata": {},
   "outputs": [
    {
     "data": {
      "text/html": [
       "\n",
       "            <style>\n",
       "                .geemap-dark {\n",
       "                    --jp-widgets-color: white;\n",
       "                    --jp-widgets-label-color: white;\n",
       "                    --jp-ui-font-color1: white;\n",
       "                    --jp-layout-color2: #454545;\n",
       "                    background-color: #383838;\n",
       "                }\n",
       "\n",
       "                .geemap-dark .jupyter-button {\n",
       "                    --jp-layout-color3: #383838;\n",
       "                }\n",
       "\n",
       "                .geemap-colab {\n",
       "                    background-color: var(--colab-primary-surface-color, white);\n",
       "                }\n",
       "\n",
       "                .geemap-colab .jupyter-button {\n",
       "                    --jp-layout-color3: var(--colab-primary-surface-color, white);\n",
       "                }\n",
       "            </style>\n",
       "            "
      ],
      "text/plain": [
       "<IPython.core.display.HTML object>"
      ]
     },
     "metadata": {},
     "output_type": "display_data"
    },
    {
     "data": {
      "text/html": [
       "<div>\n",
       "<style scoped>\n",
       "    .dataframe tbody tr th:only-of-type {\n",
       "        vertical-align: middle;\n",
       "    }\n",
       "\n",
       "    .dataframe tbody tr th {\n",
       "        vertical-align: top;\n",
       "    }\n",
       "\n",
       "    .dataframe thead th {\n",
       "        text-align: right;\n",
       "    }\n",
       "</style>\n",
       "<table border=\"1\" class=\"dataframe\">\n",
       "  <thead>\n",
       "    <tr style=\"text-align: right;\">\n",
       "      <th></th>\n",
       "      <th>Nombre</th>\n",
       "      <th>Altitud (m</th>\n",
       "      <th>Ubicación</th>\n",
       "      <th>Tipo</th>\n",
       "      <th>Estado</th>\n",
       "      <th>Año de In</th>\n",
       "      <th>Área Lent</th>\n",
       "      <th>geometry</th>\n",
       "    </tr>\n",
       "  </thead>\n",
       "  <tbody>\n",
       "    <tr>\n",
       "      <th>0</th>\n",
       "      <td>ALMA</td>\n",
       "      <td>5000</td>\n",
       "      <td>Llano de Chajnantor, Antofagasta</td>\n",
       "      <td>Radio</td>\n",
       "      <td>Operativo</td>\n",
       "      <td>2003</td>\n",
       "      <td>41001.06121734071</td>\n",
       "      <td>POINT (-67.7546 -23.0221)</td>\n",
       "    </tr>\n",
       "    <tr>\n",
       "      <th>1</th>\n",
       "      <td>APEX</td>\n",
       "      <td>5100</td>\n",
       "      <td>Llano de Chajnantor, Antofagasta</td>\n",
       "      <td>Radio</td>\n",
       "      <td>Operativo</td>\n",
       "      <td>2003</td>\n",
       "      <td>113.09733552923257</td>\n",
       "      <td>POINT (-67.7533 -23.0056)</td>\n",
       "    </tr>\n",
       "    <tr>\n",
       "      <th>2</th>\n",
       "      <td>ACT</td>\n",
       "      <td>5190</td>\n",
       "      <td>Cerro Toco, Antofagasta</td>\n",
       "      <td>Radio</td>\n",
       "      <td>Operativo</td>\n",
       "      <td>2007</td>\n",
       "      <td>28.274333882308134</td>\n",
       "      <td>POINT (-67.7875 -22.9583)</td>\n",
       "    </tr>\n",
       "    <tr>\n",
       "      <th>3</th>\n",
       "      <td>Paranal (VLT)</td>\n",
       "      <td>2635</td>\n",
       "      <td>Cerro Paranal, Antofagasta</td>\n",
       "      <td>Óptico/Infrarrojo</td>\n",
       "      <td>Operativo</td>\n",
       "      <td>1991</td>\n",
       "      <td>211.23836840423655</td>\n",
       "      <td>POINT (-70.4042 -24.6272)</td>\n",
       "    </tr>\n",
       "    <tr>\n",
       "      <th>4</th>\n",
       "      <td>ELT (en construcción)</td>\n",
       "      <td>3046</td>\n",
       "      <td>Cerro Armazones, Antofagasta</td>\n",
       "      <td>Óptico/Infrarrojo</td>\n",
       "      <td>En construcción</td>\n",
       "      <td>2014</td>\n",
       "      <td>1194.690595328151</td>\n",
       "      <td>POINT (-70.19 -24.5895)</td>\n",
       "    </tr>\n",
       "    <tr>\n",
       "      <th>5</th>\n",
       "      <td>La Silla</td>\n",
       "      <td>2400</td>\n",
       "      <td>Cerro La Silla, Coquimbo</td>\n",
       "      <td>Óptico</td>\n",
       "      <td>Operativo</td>\n",
       "      <td>1964</td>\n",
       "      <td>10.179015632055895</td>\n",
       "      <td>POINT (-70.7347 -29.2581)</td>\n",
       "    </tr>\n",
       "    <tr>\n",
       "      <th>6</th>\n",
       "      <td>Cerro Tololo (CTIO)</td>\n",
       "      <td>2200</td>\n",
       "      <td>Cerro Tololo, Coquimbo</td>\n",
       "      <td>Óptico</td>\n",
       "      <td>Operativo</td>\n",
       "      <td>1963</td>\n",
       "      <td>12.566370614359172</td>\n",
       "      <td>POINT (-70.8061 -30.1692)</td>\n",
       "    </tr>\n",
       "    <tr>\n",
       "      <th>7</th>\n",
       "      <td>Gemini Sur</td>\n",
       "      <td>2737</td>\n",
       "      <td>Cerro Pachón, Coquimbo</td>\n",
       "      <td>Óptico/Infrarrojo</td>\n",
       "      <td>Operativo</td>\n",
       "      <td>1994</td>\n",
       "      <td>51.51838900400386</td>\n",
       "      <td>POINT (-70.7366 -30.2407)</td>\n",
       "    </tr>\n",
       "    <tr>\n",
       "      <th>8</th>\n",
       "      <td>Vera C. Rubin Observatory</td>\n",
       "      <td>2663</td>\n",
       "      <td>Cerro Pachón, Coquimbo</td>\n",
       "      <td>Óptico</td>\n",
       "      <td>En construcción</td>\n",
       "      <td>2014</td>\n",
       "      <td>55.41985163906199</td>\n",
       "      <td>POINT (-70.7492 -30.2444)</td>\n",
       "    </tr>\n",
       "    <tr>\n",
       "      <th>9</th>\n",
       "      <td>Magellan (Las Campanas)</td>\n",
       "      <td>2400</td>\n",
       "      <td>Cerro Las Campanas, Atacama</td>\n",
       "      <td>Óptico</td>\n",
       "      <td>Operativo</td>\n",
       "      <td>1999</td>\n",
       "      <td>66.46813142637272</td>\n",
       "      <td>POINT (-70.6925 -29.0144)</td>\n",
       "    </tr>\n",
       "    <tr>\n",
       "      <th>10</th>\n",
       "      <td>Giant Magellan Telescope (GMT)</td>\n",
       "      <td>2514</td>\n",
       "      <td>Cerro Las Campanas, Atacama</td>\n",
       "      <td>Óptico/Infrarrojo</td>\n",
       "      <td>En construcción</td>\n",
       "      <td>2012</td>\n",
       "      <td>506.7074790972215</td>\n",
       "      <td>POINT (-70.6836 -29.0483)</td>\n",
       "    </tr>\n",
       "    <tr>\n",
       "      <th>11</th>\n",
       "      <td>Cerro El Roble Observatory</td>\n",
       "      <td>2222</td>\n",
       "      <td>Cerro El Roble, Valparaíso</td>\n",
       "      <td>Óptico</td>\n",
       "      <td>Operativo</td>\n",
       "      <td>1967</td>\n",
       "      <td>0.2827433388230814</td>\n",
       "      <td>POINT (-71.2333 -32.95)</td>\n",
       "    </tr>\n",
       "    <tr>\n",
       "      <th>12</th>\n",
       "      <td>Observatorio UC</td>\n",
       "      <td>1450</td>\n",
       "      <td>Lo Barnechea, Santiago</td>\n",
       "      <td>Óptico</td>\n",
       "      <td>Operativo</td>\n",
       "      <td>2000</td>\n",
       "      <td>0.196349540849362</td>\n",
       "      <td>POINT (-70.5344 -33.2692)</td>\n",
       "    </tr>\n",
       "  </tbody>\n",
       "</table>\n",
       "</div>"
      ],
      "text/plain": [
       "                            Nombre Altitud (m  \\\n",
       "0                             ALMA       5000   \n",
       "1                             APEX       5100   \n",
       "2                              ACT       5190   \n",
       "3                    Paranal (VLT)       2635   \n",
       "4            ELT (en construcción)       3046   \n",
       "5                         La Silla       2400   \n",
       "6              Cerro Tololo (CTIO)       2200   \n",
       "7                       Gemini Sur       2737   \n",
       "8        Vera C. Rubin Observatory       2663   \n",
       "9          Magellan (Las Campanas)       2400   \n",
       "10  Giant Magellan Telescope (GMT)       2514   \n",
       "11      Cerro El Roble Observatory       2222   \n",
       "12                 Observatorio UC       1450   \n",
       "\n",
       "                           Ubicación               Tipo           Estado  \\\n",
       "0   Llano de Chajnantor, Antofagasta              Radio        Operativo   \n",
       "1   Llano de Chajnantor, Antofagasta              Radio        Operativo   \n",
       "2            Cerro Toco, Antofagasta              Radio        Operativo   \n",
       "3         Cerro Paranal, Antofagasta  Óptico/Infrarrojo        Operativo   \n",
       "4       Cerro Armazones, Antofagasta  Óptico/Infrarrojo  En construcción   \n",
       "5           Cerro La Silla, Coquimbo             Óptico        Operativo   \n",
       "6             Cerro Tololo, Coquimbo             Óptico        Operativo   \n",
       "7             Cerro Pachón, Coquimbo  Óptico/Infrarrojo        Operativo   \n",
       "8             Cerro Pachón, Coquimbo             Óptico  En construcción   \n",
       "9        Cerro Las Campanas, Atacama             Óptico        Operativo   \n",
       "10       Cerro Las Campanas, Atacama  Óptico/Infrarrojo  En construcción   \n",
       "11        Cerro El Roble, Valparaíso             Óptico        Operativo   \n",
       "12            Lo Barnechea, Santiago             Óptico        Operativo   \n",
       "\n",
       "   Año de In           Área Lent                   geometry  \n",
       "0       2003   41001.06121734071  POINT (-67.7546 -23.0221)  \n",
       "1       2003  113.09733552923257  POINT (-67.7533 -23.0056)  \n",
       "2       2007  28.274333882308134  POINT (-67.7875 -22.9583)  \n",
       "3       1991  211.23836840423655  POINT (-70.4042 -24.6272)  \n",
       "4       2014   1194.690595328151    POINT (-70.19 -24.5895)  \n",
       "5       1964  10.179015632055895  POINT (-70.7347 -29.2581)  \n",
       "6       1963  12.566370614359172  POINT (-70.8061 -30.1692)  \n",
       "7       1994   51.51838900400386  POINT (-70.7366 -30.2407)  \n",
       "8       2014   55.41985163906199  POINT (-70.7492 -30.2444)  \n",
       "9       1999   66.46813142637272  POINT (-70.6925 -29.0144)  \n",
       "10      2012   506.7074790972215  POINT (-70.6836 -29.0483)  \n",
       "11      1967  0.2827433388230814    POINT (-71.2333 -32.95)  \n",
       "12      2000   0.196349540849362  POINT (-70.5344 -33.2692)  "
      ]
     },
     "execution_count": 7,
     "metadata": {},
     "output_type": "execute_result"
    }
   ],
   "source": [
    "obs = gpd.read_file('Datos/observatorios_filtrados/observatorios_filtrados.shp').to_crs(epsg=4326)\n",
    "obs"
   ]
  },
  {
   "cell_type": "code",
   "execution_count": 8,
   "id": "d06ad17a",
   "metadata": {},
   "outputs": [
    {
     "data": {
      "text/html": [
       "\n",
       "            <style>\n",
       "                .geemap-dark {\n",
       "                    --jp-widgets-color: white;\n",
       "                    --jp-widgets-label-color: white;\n",
       "                    --jp-ui-font-color1: white;\n",
       "                    --jp-layout-color2: #454545;\n",
       "                    background-color: #383838;\n",
       "                }\n",
       "\n",
       "                .geemap-dark .jupyter-button {\n",
       "                    --jp-layout-color3: #383838;\n",
       "                }\n",
       "\n",
       "                .geemap-colab {\n",
       "                    background-color: var(--colab-primary-surface-color, white);\n",
       "                }\n",
       "\n",
       "                .geemap-colab .jupyter-button {\n",
       "                    --jp-layout-color3: var(--colab-primary-surface-color, white);\n",
       "                }\n",
       "            </style>\n",
       "            "
      ],
      "text/plain": [
       "<IPython.core.display.HTML object>"
      ]
     },
     "metadata": {},
     "output_type": "display_data"
    },
    {
     "data": {
      "image/png": "[encoded data removed]",
      "text/plain": [
       "<Figure size 1000x1000 with 1 Axes>"
      ]
     },
     "metadata": {},
     "output_type": "display_data"
    }
   ],
   "source": [
    "chile.to_crs(obs.crs, inplace=True)\n",
    "chile.plot(color='white', edgecolor='black', figsize=(10, 10))\n",
    "obs.plot(ax=plt.gca(), color='red', markersize=5)\n",
    "plt.title('Observatorios en Chile')\n",
    "plt.show()"
   ]
  },
  {
   "cell_type": "code",
   "execution_count": 9,
   "id": "2f8ea6b2",
   "metadata": {},
   "outputs": [
    {
     "data": {
      "text/html": [
       "\n",
       "            <style>\n",
       "                .geemap-dark {\n",
       "                    --jp-widgets-color: white;\n",
       "                    --jp-widgets-label-color: white;\n",
       "                    --jp-ui-font-color1: white;\n",
       "                    --jp-layout-color2: #454545;\n",
       "                    background-color: #383838;\n",
       "                }\n",
       "\n",
       "                .geemap-dark .jupyter-button {\n",
       "                    --jp-layout-color3: #383838;\n",
       "                }\n",
       "\n",
       "                .geemap-colab {\n",
       "                    background-color: var(--colab-primary-surface-color, white);\n",
       "                }\n",
       "\n",
       "                .geemap-colab .jupyter-button {\n",
       "                    --jp-layout-color3: var(--colab-primary-surface-color, white);\n",
       "                }\n",
       "            </style>\n",
       "            "
      ],
      "text/plain": [
       "<IPython.core.display.HTML object>"
      ]
     },
     "metadata": {},
     "output_type": "display_data"
    },
    {
     "data": {
      "text/html": [
       "<div><style>:root {\n",
       "  --font-color-primary: var(--jp-content-font-color0, rgba(0, 0, 0, 1));\n",
       "  --font-color-secondary: var(--jp-content-font-color2, rgba(0, 0, 0, 0.7));\n",
       "  --font-color-accent: rgba(123, 31, 162, 1);\n",
       "  --border-color: var(--jp-border-color2, #e0e0e0);\n",
       "  --background-color: var(--jp-layout-color0, white);\n",
       "  --background-color-row-even: var(--jp-layout-color1, white);\n",
       "  --background-color-row-odd: var(--jp-layout-color2, #eeeeee);\n",
       "}\n",
       "\n",
       "html[theme=\"dark\"],\n",
       "body[data-theme=\"dark\"],\n",
       "body.vscode-dark {\n",
       "  --font-color-primary: rgba(255, 255, 255, 1);\n",
       "  --font-color-secondary: rgba(255, 255, 255, 0.7);\n",
       "  --font-color-accent: rgb(173, 132, 190);\n",
       "  --border-color: #2e2e2e;\n",
       "  --background-color: #111111;\n",
       "  --background-color-row-even: #111111;\n",
       "  --background-color-row-odd: #313131;\n",
       "}\n",
       "\n",
       ".eerepr {\n",
       "  padding: 1em;\n",
       "  line-height: 1.5em;\n",
       "  min-width: 300px;\n",
       "  max-width: 1200px;\n",
       "  overflow-y: scroll;\n",
       "  max-height: 600px;\n",
       "  border: 1px solid var(--border-color);\n",
       "  font-family: monospace;\n",
       "  font-size: 14px;\n",
       "}\n",
       "\n",
       ".eerepr li {\n",
       "  list-style-type: none;\n",
       "  margin: 0;\n",
       "}\n",
       "\n",
       ".eerepr ul {\n",
       "  padding-left: 1.5em !important;\n",
       "  margin: 0;\n",
       "}\n",
       "\n",
       ".eerepr > ul {\n",
       "  padding-left: 0 !important;\n",
       "}\n",
       "\n",
       ".eerepr summary {\n",
       "  color: var(--font-color-secondary);\n",
       "  cursor: pointer;\n",
       "  margin: 0;\n",
       "}\n",
       "\n",
       ".eerepr summary:hover {\n",
       "  color: var(--font-color-primary);\n",
       "  background-color: var(--background-color-row-odd)\n",
       "}\n",
       "\n",
       ".ee-k {\n",
       "  color: var(--font-color-accent);\n",
       "  margin-right: 6px;\n",
       "}\n",
       "\n",
       ".ee-v {\n",
       "  color: var(--font-color-primary);\n",
       "}\n",
       "\n",
       ".eerepr details > summary::before {\n",
       "  content: '▼';\n",
       "  display: inline-block;\n",
       "  margin-right: 6px;\n",
       "  transition: transform 0.2s;\n",
       "  transform: rotate(-90deg);\n",
       "}\n",
       "\n",
       ".eerepr details[open] > summary::before {\n",
       "  transform: rotate(0deg);\n",
       "}\n",
       "\n",
       ".eerepr details summary::-webkit-details-marker {\n",
       "  display:none;\n",
       "}\n",
       "\n",
       ".eerepr details summary {\n",
       "  list-style-type: none;\n",
       "}\n",
       "</style><div class='eerepr'><ul><li><details><summary>Polygon (5 vertices)</summary><ul><li><span class='ee-k'>type:</span><span class='ee-v'>Polygon</span></li><li><details><summary>coordinates: List (1 element)</summary><ul><li><details><summary>0: List (5 elements)</summary><ul><li><details><summary>0: [-71.84324926038242, -34.29066938312955]</summary><ul><li><span class='ee-k'>0:</span><span class='ee-v'>-71.84324926038242</span></li><li><span class='ee-k'>1:</span><span class='ee-v'>-34.29066938312955</span></li></ul></details></li><li><details><summary>1: [-66.99017820921081, -34.29066938312955]</summary><ul><li><span class='ee-k'>0:</span><span class='ee-v'>-66.99017820921081</span></li><li><span class='ee-k'>1:</span><span class='ee-v'>-34.29066938312955</span></li></ul></details></li><li><details><summary>2: [-66.99017820921081, -20.934544567217234]</summary><ul><li><span class='ee-k'>0:</span><span class='ee-v'>-66.99017820921081</span></li><li><span class='ee-k'>1:</span><span class='ee-v'>-20.934544567217234</span></li></ul></details></li><li><details><summary>3: [-71.84324926038242, -20.934544567217234]</summary><ul><li><span class='ee-k'>0:</span><span class='ee-v'>-71.84324926038242</span></li><li><span class='ee-k'>1:</span><span class='ee-v'>-20.934544567217234</span></li></ul></details></li><li><details><summary>4: [-71.84324926038242, -34.29066938312955]</summary><ul><li><span class='ee-k'>0:</span><span class='ee-v'>-71.84324926038242</span></li><li><span class='ee-k'>1:</span><span class='ee-v'>-34.29066938312955</span></li></ul></details></li></ul></details></li></ul></details></li></ul></details></li></ul></div></div>"
      ],
      "text/plain": [
       "ee.Geometry({\n",
       "  \"functionInvocationValue\": {\n",
       "    \"functionName\": \"GeometryConstructors.Polygon\",\n",
       "    \"arguments\": {\n",
       "      \"coordinates\": {\n",
       "        \"constantValue\": [\n",
       "          [\n",
       "            [\n",
       "              -71.84324926038242,\n",
       "              -34.29066938312955\n",
       "            ],\n",
       "            [\n",
       "              -71.84324926038242,\n",
       "              -20.934544567217234\n",
       "            ],\n",
       "            [\n",
       "              -66.99017820921081,\n",
       "              -20.934544567217234\n",
       "            ],\n",
       "            [\n",
       "              -66.99017820921081,\n",
       "              -34.29066938312955\n",
       "            ],\n",
       "            [\n",
       "              -71.84324926038242,\n",
       "              -34.29066938312955\n",
       "            ]\n",
       "          ]\n",
       "        ]\n",
       "      },\n",
       "      \"evenOdd\": {\n",
       "        \"constantValue\": true\n",
       "      }\n",
       "    }\n",
       "  }\n",
       "})"
      ]
     },
     "execution_count": 9,
     "metadata": {},
     "output_type": "execute_result"
    }
   ],
   "source": [
    "# Convert chile.total_bounds to a polygon: [minx, miny, maxx, maxy]\n",
    "minx, miny, maxx, maxy = chile.total_bounds\n",
    "xy = [[ [minx, miny],\n",
    "        [minx, maxy],\n",
    "        [maxx, maxy],\n",
    "        [maxx, miny],\n",
    "        [minx, miny] \n",
    "]]\n",
    "aoi = ee.Geometry.Polygon(xy)\n",
    "center = aoi.centroid().getInfo()['coordinates']\n",
    "aoi"
   ]
  },
  {
   "cell_type": "code",
   "execution_count": 10,
   "id": "db5be6a3",
   "metadata": {},
   "outputs": [
    {
     "data": {
      "text/html": [
       "\n",
       "            <style>\n",
       "                .geemap-dark {\n",
       "                    --jp-widgets-color: white;\n",
       "                    --jp-widgets-label-color: white;\n",
       "                    --jp-ui-font-color1: white;\n",
       "                    --jp-layout-color2: #454545;\n",
       "                    background-color: #383838;\n",
       "                }\n",
       "\n",
       "                .geemap-dark .jupyter-button {\n",
       "                    --jp-layout-color3: #383838;\n",
       "                }\n",
       "\n",
       "                .geemap-colab {\n",
       "                    background-color: var(--colab-primary-surface-color, white);\n",
       "                }\n",
       "\n",
       "                .geemap-colab .jupyter-button {\n",
       "                    --jp-layout-color3: var(--colab-primary-surface-color, white);\n",
       "                }\n",
       "            </style>\n",
       "            "
      ],
      "text/plain": [
       "<IPython.core.display.HTML object>"
      ]
     },
     "metadata": {},
     "output_type": "display_data"
    }
   ],
   "source": [
    "def descargar_imagen(image, vis_params, output):\n",
    "    # Obtener la URL de la imagen visualizada\n",
    "    image_url = image.visualize(**vis_params).getThumbURL({\n",
    "        'dimensions': 1024,  # Tamaño máximo de la imagen\n",
    "        'region': aoi.bounds(),\n",
    "        'format': 'png'\n",
    "    })\n",
    "    # Descargar la imagen\n",
    "    response = requests.get(image_url)\n",
    "    img = Image.open(BytesIO(response.content))\n",
    "\n",
    "    # Guardar localmente\n",
    "    img.save(f'{output}.png')"
   ]
  },
  {
   "cell_type": "markdown",
   "id": "e68d6736",
   "metadata": {},
   "source": [
    "## Contaminacion Luminica\n",
    "[VIIRS Stray Light Corrected Nighttime](https://developers.google.com/earth-engine/datasets/catalog/NOAA_VIIRS_DNB_MONTHLY_V1_VCMSLCFG?hl=es-419)"
   ]
  },
  {
   "cell_type": "code",
   "execution_count": 11,
   "id": "037ee997",
   "metadata": {},
   "outputs": [
    {
     "data": {
      "text/html": [
       "\n",
       "            <style>\n",
       "                .geemap-dark {\n",
       "                    --jp-widgets-color: white;\n",
       "                    --jp-widgets-label-color: white;\n",
       "                    --jp-ui-font-color1: white;\n",
       "                    --jp-layout-color2: #454545;\n",
       "                    background-color: #383838;\n",
       "                }\n",
       "\n",
       "                .geemap-dark .jupyter-button {\n",
       "                    --jp-layout-color3: #383838;\n",
       "                }\n",
       "\n",
       "                .geemap-colab {\n",
       "                    background-color: var(--colab-primary-surface-color, white);\n",
       "                }\n",
       "\n",
       "                .geemap-colab .jupyter-button {\n",
       "                    --jp-layout-color3: var(--colab-primary-surface-color, white);\n",
       "                }\n",
       "            </style>\n",
       "            "
      ],
      "text/plain": [
       "<IPython.core.display.HTML object>"
      ]
     },
     "metadata": {},
     "output_type": "display_data"
    }
   ],
   "source": [
    "collection = ee.ImageCollection(\"NOAA/VIIRS/DNB/MONTHLY_V1/VCMSLCFG\")  \\\n",
    "\t.filterDate(startDate, endDate) \\\n",
    "\t.map(lambda img: img.clip(aoi))\n",
    "\n",
    "# Selecciona la banda de intensidad de luces nocturnas\n",
    "image = collection.select('avg_rad')\n",
    "\n",
    "# Selecciona la imagen promedio del año\n",
    "image = image.median()\n",
    "\n",
    "# Define parámetros de visualización\n",
    "vis_params = {\n",
    "    'min': 0,\n",
    "    'max': 60,\n",
    "    'palette': ['000000', 'ffff00', 'ffffff']\n",
    "}"
   ]
  },
  {
   "cell_type": "code",
   "execution_count": 12,
   "id": "fa904502",
   "metadata": {},
   "outputs": [
    {
     "data": {
      "text/html": [
       "\n",
       "            <style>\n",
       "                .geemap-dark {\n",
       "                    --jp-widgets-color: white;\n",
       "                    --jp-widgets-label-color: white;\n",
       "                    --jp-ui-font-color1: white;\n",
       "                    --jp-layout-color2: #454545;\n",
       "                    background-color: #383838;\n",
       "                }\n",
       "\n",
       "                .geemap-dark .jupyter-button {\n",
       "                    --jp-layout-color3: #383838;\n",
       "                }\n",
       "\n",
       "                .geemap-colab {\n",
       "                    background-color: var(--colab-primary-surface-color, white);\n",
       "                }\n",
       "\n",
       "                .geemap-colab .jupyter-button {\n",
       "                    --jp-layout-color3: var(--colab-primary-surface-color, white);\n",
       "                }\n",
       "            </style>\n",
       "            "
      ],
      "text/plain": [
       "<IPython.core.display.HTML object>"
      ]
     },
     "metadata": {},
     "output_type": "display_data"
    }
   ],
   "source": [
    "descargar_imagen(image, vis_params, \"Contaminacion Luminica\")"
   ]
  },
  {
   "cell_type": "code",
   "execution_count": 13,
   "id": "ddd37377",
   "metadata": {},
   "outputs": [
    {
     "data": {
      "text/html": [
       "\n",
       "            <style>\n",
       "                .geemap-dark {\n",
       "                    --jp-widgets-color: white;\n",
       "                    --jp-widgets-label-color: white;\n",
       "                    --jp-ui-font-color1: white;\n",
       "                    --jp-layout-color2: #454545;\n",
       "                    background-color: #383838;\n",
       "                }\n",
       "\n",
       "                .geemap-dark .jupyter-button {\n",
       "                    --jp-layout-color3: #383838;\n",
       "                }\n",
       "\n",
       "                .geemap-colab {\n",
       "                    background-color: var(--colab-primary-surface-color, white);\n",
       "                }\n",
       "\n",
       "                .geemap-colab .jupyter-button {\n",
       "                    --jp-layout-color3: var(--colab-primary-surface-color, white);\n",
       "                }\n",
       "            </style>\n",
       "            "
      ],
      "text/plain": [
       "<IPython.core.display.HTML object>"
      ]
     },
     "metadata": {},
     "output_type": "display_data"
    }
   ],
   "source": [
    "# Crea un mapa interactivo\n",
    "# Map = geemap.Map(center=[20, 0], zoom=2)\n",
    "# Map.addLayer(image, vis_params, 'Luces nocturnas (promedio)')\n",
    "# Map.addLayerControl()\n",
    "# Map"
   ]
  },
  {
   "cell_type": "markdown",
   "id": "64ab3285",
   "metadata": {},
   "source": [
    "## Nubosidad\n",
    "[Terra Atmosphere Monthly Global Product](https://developers.google.com/earth-engine/datasets/catalog/MODIS_061_MOD08_M3?hl=es-419)"
   ]
  },
  {
   "cell_type": "code",
   "execution_count": 14,
   "id": "f6f72849",
   "metadata": {},
   "outputs": [
    {
     "data": {
      "text/html": [
       "\n",
       "            <style>\n",
       "                .geemap-dark {\n",
       "                    --jp-widgets-color: white;\n",
       "                    --jp-widgets-label-color: white;\n",
       "                    --jp-ui-font-color1: white;\n",
       "                    --jp-layout-color2: #454545;\n",
       "                    background-color: #383838;\n",
       "                }\n",
       "\n",
       "                .geemap-dark .jupyter-button {\n",
       "                    --jp-layout-color3: #383838;\n",
       "                }\n",
       "\n",
       "                .geemap-colab {\n",
       "                    background-color: var(--colab-primary-surface-color, white);\n",
       "                }\n",
       "\n",
       "                .geemap-colab .jupyter-button {\n",
       "                    --jp-layout-color3: var(--colab-primary-surface-color, white);\n",
       "                }\n",
       "            </style>\n",
       "            "
      ],
      "text/plain": [
       "<IPython.core.display.HTML object>"
      ]
     },
     "metadata": {},
     "output_type": "display_data"
    }
   ],
   "source": [
    "# Cargar colección de MODIS Atmosférico mensual\n",
    "collection = ee.ImageCollection(\"MODIS/061/MOD08_M3\") \\\n",
    "    .filterDate(startDate, endDate) \\\n",
    "    # .map(lambda img: img.clip(aoi))\n",
    "\n",
    "# Calcular el promedio en el rango de fechas\n",
    "image = collection.mean()\n",
    "\n",
    "# Seleccionar la banda de fracción de nubes (útil para evaluar cielos despejados)\n",
    "image = image.select('Cirrus_Fraction_SWIR_FMean')\n",
    "\n",
    "# Parámetros de visualización (nubosidad entre 0 y 1)\n",
    "vis_params = {\n",
    "    'min': 0,\n",
    "    'max': 10000,\n",
    "    'palette': ['000000', '8888ff', 'ffffff']  # de cielo despejado a nublado\n",
    "}\n",
    "\n",
    "# Añadir la capa al mapa\n",
    "# Map.addLayer(image, vis_params, 'Nubosidad promedio (MODIS)')\n",
    "# Map.addLayerControl()\n",
    "# Map\n"
   ]
  },
  {
   "cell_type": "code",
   "execution_count": 15,
   "id": "7015255f",
   "metadata": {},
   "outputs": [
    {
     "data": {
      "text/html": [
       "\n",
       "            <style>\n",
       "                .geemap-dark {\n",
       "                    --jp-widgets-color: white;\n",
       "                    --jp-widgets-label-color: white;\n",
       "                    --jp-ui-font-color1: white;\n",
       "                    --jp-layout-color2: #454545;\n",
       "                    background-color: #383838;\n",
       "                }\n",
       "\n",
       "                .geemap-dark .jupyter-button {\n",
       "                    --jp-layout-color3: #383838;\n",
       "                }\n",
       "\n",
       "                .geemap-colab {\n",
       "                    background-color: var(--colab-primary-surface-color, white);\n",
       "                }\n",
       "\n",
       "                .geemap-colab .jupyter-button {\n",
       "                    --jp-layout-color3: var(--colab-primary-surface-color, white);\n",
       "                }\n",
       "            </style>\n",
       "            "
      ],
      "text/plain": [
       "<IPython.core.display.HTML object>"
      ]
     },
     "metadata": {},
     "output_type": "display_data"
    }
   ],
   "source": [
    "# Cargar colección de MODIS Atmosférico mensual\n",
    "collection = ee.ImageCollection(\"MODIS/061/MOD08_M3\") \\\n",
    "    .filterDate(startDate, endDate) \\\n",
    "    # .map(lambda img: img.clip(aoi))\n",
    "\n",
    "# Calcular el promedio en el rango de fechas\n",
    "image = collection.mean()\n",
    "\n",
    "# Seleccionar la banda de fracción de nubes (útil para evaluar cielos despejados)\n",
    "image = image.select('Cloud_Optical_Thickness_Liquid_Log_Mean_Mean')\n",
    "\n",
    "# Parámetros de visualización (nubosidad entre 0 y 1)\n",
    "vis_params = {\n",
    "    'min': 0,\n",
    "    'max': 4176,\n",
    "    'palette': ['000000', '8888ff', 'ffffff']  # de cielo despejado a nublado\n",
    "}\n",
    "\n",
    "# Añadir la capa al mapa\n",
    "# Map.addLayer(image, vis_params, 'Muestra')\n",
    "# Map.addLayerControl()\n",
    "# Map\n"
   ]
  },
  {
   "cell_type": "code",
   "execution_count": 16,
   "id": "ba710c0c",
   "metadata": {},
   "outputs": [
    {
     "data": {
      "text/html": [
       "\n",
       "            <style>\n",
       "                .geemap-dark {\n",
       "                    --jp-widgets-color: white;\n",
       "                    --jp-widgets-label-color: white;\n",
       "                    --jp-ui-font-color1: white;\n",
       "                    --jp-layout-color2: #454545;\n",
       "                    background-color: #383838;\n",
       "                }\n",
       "\n",
       "                .geemap-dark .jupyter-button {\n",
       "                    --jp-layout-color3: #383838;\n",
       "                }\n",
       "\n",
       "                .geemap-colab {\n",
       "                    background-color: var(--colab-primary-surface-color, white);\n",
       "                }\n",
       "\n",
       "                .geemap-colab .jupyter-button {\n",
       "                    --jp-layout-color3: var(--colab-primary-surface-color, white);\n",
       "                }\n",
       "            </style>\n",
       "            "
      ],
      "text/plain": [
       "<IPython.core.display.HTML object>"
      ]
     },
     "metadata": {},
     "output_type": "display_data"
    }
   ],
   "source": [
    "# Cargar colección de MODIS Atmosférico mensual\n",
    "collection = ee.ImageCollection(\"MODIS/061/MOD08_M3\") \\\n",
    "    .filterDate(startDate, endDate) \\\n",
    "    # .map(lambda img: img.clip(aoi))\n",
    "\n",
    "# Calcular el promedio en el rango de fechas\n",
    "image = collection.mean()\n",
    "\n",
    "# Seleccionar la banda de fracción de nubes (útil para evaluar cielos despejados)\n",
    "image = image.select('Cloud_Optical_Thickness_Liquid_Mean_Uncertainty')\n",
    "\n",
    "# Parámetros de visualización (nubosidad entre 0 y 1)\n",
    "vis_params = {\n",
    "    'min': 0,\n",
    "    'max': 2000,\n",
    "    'palette': ['000000', '8888ff', 'ffffff']  # de cielo despejado a nublado\n",
    "}\n",
    "\n",
    "# Añadir la capa al mapa\n",
    "# Map.addLayer(image, vis_params, 'Muestra')\n",
    "# Map.addLayerControl()\n",
    "# Map\n"
   ]
  },
  {
   "cell_type": "code",
   "execution_count": 17,
   "id": "d7e986e9",
   "metadata": {},
   "outputs": [
    {
     "data": {
      "text/html": [
       "\n",
       "            <style>\n",
       "                .geemap-dark {\n",
       "                    --jp-widgets-color: white;\n",
       "                    --jp-widgets-label-color: white;\n",
       "                    --jp-ui-font-color1: white;\n",
       "                    --jp-layout-color2: #454545;\n",
       "                    background-color: #383838;\n",
       "                }\n",
       "\n",
       "                .geemap-dark .jupyter-button {\n",
       "                    --jp-layout-color3: #383838;\n",
       "                }\n",
       "\n",
       "                .geemap-colab {\n",
       "                    background-color: var(--colab-primary-surface-color, white);\n",
       "                }\n",
       "\n",
       "                .geemap-colab .jupyter-button {\n",
       "                    --jp-layout-color3: var(--colab-primary-surface-color, white);\n",
       "                }\n",
       "            </style>\n",
       "            "
      ],
      "text/plain": [
       "<IPython.core.display.HTML object>"
      ]
     },
     "metadata": {},
     "output_type": "display_data"
    }
   ],
   "source": [
    "# Cargar colección de MODIS Atmosférico mensual\n",
    "collection = ee.ImageCollection(\"MODIS/061/MOD08_M3\") \\\n",
    "    .filterDate(startDate, endDate) \\\n",
    "    .map(lambda img: img.clip(aoi))\n",
    "\n",
    "# Calcular el promedio en el rango de fechas\n",
    "image = collection.median()\n",
    "\n",
    "# Seleccionar la banda de fracción de nubes (útil para evaluar cielos despejados)\n",
    "image = image.select('Cirrus_Fraction_SWIR_FStd').clip(aoi)\n",
    "\n",
    "# Parámetros de visualización (nubosidad entre 0 y 1)\n",
    "vis_params = {\n",
    "    'min': 0,\n",
    "    'max': 10000,\n",
    "    'palette': ['000000', '8888ff', 'ffffff']  # de cielo despejado a nublado\n",
    "}\n",
    "\n",
    "# Añadir la capa al mapa\n",
    "# Map.addLayer(image, vis_params, 'Nubosidad promedio (MODIS)')\n",
    "# Map.addLayerControl()\n",
    "# Map\n"
   ]
  },
  {
   "cell_type": "code",
   "execution_count": 18,
   "id": "cc80f5d6",
   "metadata": {},
   "outputs": [
    {
     "data": {
      "text/html": [
       "\n",
       "            <style>\n",
       "                .geemap-dark {\n",
       "                    --jp-widgets-color: white;\n",
       "                    --jp-widgets-label-color: white;\n",
       "                    --jp-ui-font-color1: white;\n",
       "                    --jp-layout-color2: #454545;\n",
       "                    background-color: #383838;\n",
       "                }\n",
       "\n",
       "                .geemap-dark .jupyter-button {\n",
       "                    --jp-layout-color3: #383838;\n",
       "                }\n",
       "\n",
       "                .geemap-colab {\n",
       "                    background-color: var(--colab-primary-surface-color, white);\n",
       "                }\n",
       "\n",
       "                .geemap-colab .jupyter-button {\n",
       "                    --jp-layout-color3: var(--colab-primary-surface-color, white);\n",
       "                }\n",
       "            </style>\n",
       "            "
      ],
      "text/plain": [
       "<IPython.core.display.HTML object>"
      ]
     },
     "metadata": {},
     "output_type": "display_data"
    }
   ],
   "source": [
    "descargar_imagen(image, vis_params, \"Nubosidad\")"
   ]
  },
  {
   "cell_type": "markdown",
   "id": "9eaac2df",
   "metadata": {},
   "source": [
    "## Elevacion\n",
    "[NASA SRTM Digital Elevation 30m](https://developers.google.com/earth-engine/datasets/catalog/USGS_SRTMGL1_003?hl=es-419)"
   ]
  },
  {
   "cell_type": "code",
   "execution_count": 19,
   "id": "c79dcad2",
   "metadata": {},
   "outputs": [
    {
     "data": {
      "text/html": [
       "\n",
       "            <style>\n",
       "                .geemap-dark {\n",
       "                    --jp-widgets-color: white;\n",
       "                    --jp-widgets-label-color: white;\n",
       "                    --jp-ui-font-color1: white;\n",
       "                    --jp-layout-color2: #454545;\n",
       "                    background-color: #383838;\n",
       "                }\n",
       "\n",
       "                .geemap-dark .jupyter-button {\n",
       "                    --jp-layout-color3: #383838;\n",
       "                }\n",
       "\n",
       "                .geemap-colab {\n",
       "                    background-color: var(--colab-primary-surface-color, white);\n",
       "                }\n",
       "\n",
       "                .geemap-colab .jupyter-button {\n",
       "                    --jp-layout-color3: var(--colab-primary-surface-color, white);\n",
       "                }\n",
       "            </style>\n",
       "            "
      ],
      "text/plain": [
       "<IPython.core.display.HTML object>"
      ]
     },
     "metadata": {},
     "output_type": "display_data"
    }
   ],
   "source": [
    "# Carga la imagen de elevación y la recorta al área de interés\n",
    "image = ee.Image('USGS/SRTMGL1_003').clip(aoi)\n",
    "\n",
    "# Selecciona la banda de elevación\n",
    "image = image.select('elevation')\n",
    "slope = ee.Terrain.slope(image)\n",
    "\n",
    "# Define parámetros de visualización\n",
    "vis_params = {\n",
    "    'min': -10,\n",
    "    'max': 6500,\n",
    "}\n",
    "\n",
    "# Crea un mapa interactivo\n",
    "# Map.addLayer(image, vis_params, 'Elevacion (promedio)')\n",
    "# Map.addLayerControl()\n",
    "# Map"
   ]
  },
  {
   "cell_type": "code",
   "execution_count": 20,
   "id": "e7fb1553",
   "metadata": {},
   "outputs": [
    {
     "data": {
      "text/html": [
       "\n",
       "            <style>\n",
       "                .geemap-dark {\n",
       "                    --jp-widgets-color: white;\n",
       "                    --jp-widgets-label-color: white;\n",
       "                    --jp-ui-font-color1: white;\n",
       "                    --jp-layout-color2: #454545;\n",
       "                    background-color: #383838;\n",
       "                }\n",
       "\n",
       "                .geemap-dark .jupyter-button {\n",
       "                    --jp-layout-color3: #383838;\n",
       "                }\n",
       "\n",
       "                .geemap-colab {\n",
       "                    background-color: var(--colab-primary-surface-color, white);\n",
       "                }\n",
       "\n",
       "                .geemap-colab .jupyter-button {\n",
       "                    --jp-layout-color3: var(--colab-primary-surface-color, white);\n",
       "                }\n",
       "            </style>\n",
       "            "
      ],
      "text/plain": [
       "<IPython.core.display.HTML object>"
      ]
     },
     "metadata": {},
     "output_type": "display_data"
    }
   ],
   "source": [
    "descargar_imagen(image, vis_params, \"Elevacion\")"
   ]
  },
  {
   "cell_type": "markdown",
   "id": "cf70c230",
   "metadata": {},
   "source": [
    "## Precipitacion\n",
    "[TCHIRPS Daily: Climate Hazards Center InfraRed Precipitation](https://developers.google.com/earth-engine/datasets/catalog/UCSB-CHG_CHIRPS_DAILY?hl=es-419)"
   ]
  },
  {
   "cell_type": "code",
   "execution_count": 21,
   "id": "3c103f0c",
   "metadata": {},
   "outputs": [
    {
     "data": {
      "text/html": [
       "\n",
       "            <style>\n",
       "                .geemap-dark {\n",
       "                    --jp-widgets-color: white;\n",
       "                    --jp-widgets-label-color: white;\n",
       "                    --jp-ui-font-color1: white;\n",
       "                    --jp-layout-color2: #454545;\n",
       "                    background-color: #383838;\n",
       "                }\n",
       "\n",
       "                .geemap-dark .jupyter-button {\n",
       "                    --jp-layout-color3: #383838;\n",
       "                }\n",
       "\n",
       "                .geemap-colab {\n",
       "                    background-color: var(--colab-primary-surface-color, white);\n",
       "                }\n",
       "\n",
       "                .geemap-colab .jupyter-button {\n",
       "                    --jp-layout-color3: var(--colab-primary-surface-color, white);\n",
       "                }\n",
       "            </style>\n",
       "            "
      ],
      "text/plain": [
       "<IPython.core.display.HTML object>"
      ]
     },
     "metadata": {},
     "output_type": "display_data"
    }
   ],
   "source": [
    "collection = ee.ImageCollection('UCSB-CHG/CHIRPS/DAILY') \\\n",
    "                  .filter(ee.Filter.date(startDate, endDate)) \\\n",
    "                  .map(lambda img: img.clip(aoi))\n",
    "\n",
    "image = collection.select('precipitation').mean()\n",
    "vis_params = {\n",
    "  \"min\": 1,\n",
    "  \"max\": 17,\n",
    "  \"palette\": ['001137', '0aab1e', 'e7eb05', 'ff4a2d', 'e90000'],\n",
    "}\n",
    "# Map.setCenter(center[0], center[1], 5)\n",
    "# Map.addLayer(image, vis_params, 'Precipitación Media')\n",
    "# Map"
   ]
  },
  {
   "cell_type": "code",
   "execution_count": 22,
   "id": "0d4fd17e",
   "metadata": {},
   "outputs": [
    {
     "data": {
      "text/html": [
       "\n",
       "            <style>\n",
       "                .geemap-dark {\n",
       "                    --jp-widgets-color: white;\n",
       "                    --jp-widgets-label-color: white;\n",
       "                    --jp-ui-font-color1: white;\n",
       "                    --jp-layout-color2: #454545;\n",
       "                    background-color: #383838;\n",
       "                }\n",
       "\n",
       "                .geemap-dark .jupyter-button {\n",
       "                    --jp-layout-color3: #383838;\n",
       "                }\n",
       "\n",
       "                .geemap-colab {\n",
       "                    background-color: var(--colab-primary-surface-color, white);\n",
       "                }\n",
       "\n",
       "                .geemap-colab .jupyter-button {\n",
       "                    --jp-layout-color3: var(--colab-primary-surface-color, white);\n",
       "                }\n",
       "            </style>\n",
       "            "
      ],
      "text/plain": [
       "<IPython.core.display.HTML object>"
      ]
     },
     "metadata": {},
     "output_type": "display_data"
    }
   ],
   "source": [
    "descargar_imagen(image, vis_params, \"Precipitacion\")"
   ]
  },
  {
   "cell_type": "markdown",
   "id": "f8f894eb",
   "metadata": {},
   "source": [
    "## Calidad del aire\n",
    "[Terra & Aqua MAIAC Land Aerosol Profundidad óptica Diario 1 km](https://developers.google.com/earth-engine/datasets/catalog/MODIS_061_MCD19A2_GRANULES?hl=es-419)"
   ]
  },
  {
   "cell_type": "code",
   "execution_count": 24,
   "id": "b3453b52",
   "metadata": {},
   "outputs": [
    {
     "data": {
      "text/html": [
       "\n",
       "            <style>\n",
       "                .geemap-dark {\n",
       "                    --jp-widgets-color: white;\n",
       "                    --jp-widgets-label-color: white;\n",
       "                    --jp-ui-font-color1: white;\n",
       "                    --jp-layout-color2: #454545;\n",
       "                    background-color: #383838;\n",
       "                }\n",
       "\n",
       "                .geemap-dark .jupyter-button {\n",
       "                    --jp-layout-color3: #383838;\n",
       "                }\n",
       "\n",
       "                .geemap-colab {\n",
       "                    background-color: var(--colab-primary-surface-color, white);\n",
       "                }\n",
       "\n",
       "                .geemap-colab .jupyter-button {\n",
       "                    --jp-layout-color3: var(--colab-primary-surface-color, white);\n",
       "                }\n",
       "            </style>\n",
       "            "
      ],
      "text/plain": [
       "<IPython.core.display.HTML object>"
      ]
     },
     "metadata": {},
     "output_type": "display_data"
    },
    {
     "data": {
      "application/vnd.jupyter.widget-view+json": {
       "model_id": "e453d048c6794939930bf983c6673576",
       "version_major": 2,
       "version_minor": 0
      },
      "text/plain": [
       "Map(center=[-27.49718971144657, -69.41671373479664], controls=(WidgetControl(options=['position', 'transparent…"
      ]
     },
     "execution_count": 24,
     "metadata": {},
     "output_type": "execute_result"
    }
   ],
   "source": [
    "image = ee.ImageCollection('MODIS/061/MCD19A2_GRANULES') \\\n",
    "                .filterDate(startDate, endDate) \\\n",
    "                .map(lambda img: img.clip(aoi)) \\\n",
    "                .select('Optical_Depth_047') \\\n",
    "                .mean()\n",
    "\n",
    "vis_params = {\n",
    "  'min': 0,\n",
    "  'max': 1100,\n",
    "  'palette': ['black', 'blue', 'purple', 'cyan', 'green', 'yellow', 'red']\n",
    "};\n",
    "\n",
    "Map = geemap.Map(center=center, zoom=5)\n",
    "Map.addLayer(image, vis_params, 'Optical Depth 047');\n",
    "Map.setCenter(center[0], center[1], 5);\n",
    "Map"
   ]
  },
  {
   "cell_type": "markdown",
   "id": "a049bef2",
   "metadata": {},
   "source": [
    "## Gases Atmosfericos\n",
    "[Sentinel-5P OFFL AER AI: Índice de Aerosol UV fuera de línea ](https://developers.google.com/earth-engine/datasets/catalog/COPERNICUS_S5P_OFFL_L3_AER_AI?hl=es-419)"
   ]
  },
  {
   "cell_type": "code",
   "execution_count": 25,
   "id": "33f43d33",
   "metadata": {},
   "outputs": [
    {
     "data": {
      "text/html": [
       "\n",
       "            <style>\n",
       "                .geemap-dark {\n",
       "                    --jp-widgets-color: white;\n",
       "                    --jp-widgets-label-color: white;\n",
       "                    --jp-ui-font-color1: white;\n",
       "                    --jp-layout-color2: #454545;\n",
       "                    background-color: #383838;\n",
       "                }\n",
       "\n",
       "                .geemap-dark .jupyter-button {\n",
       "                    --jp-layout-color3: #383838;\n",
       "                }\n",
       "\n",
       "                .geemap-colab {\n",
       "                    background-color: var(--colab-primary-surface-color, white);\n",
       "                }\n",
       "\n",
       "                .geemap-colab .jupyter-button {\n",
       "                    --jp-layout-color3: var(--colab-primary-surface-color, white);\n",
       "                }\n",
       "            </style>\n",
       "            "
      ],
      "text/plain": [
       "<IPython.core.display.HTML object>"
      ]
     },
     "metadata": {},
     "output_type": "display_data"
    },
    {
     "data": {
      "application/vnd.jupyter.widget-view+json": {
       "model_id": "e453d048c6794939930bf983c6673576",
       "version_major": 2,
       "version_minor": 0
      },
      "text/plain": [
       "Map(bottom=5090.0, center=[-27.49718971144657, -69.41671373479664], controls=(WidgetControl(options=['position…"
      ]
     },
     "execution_count": 25,
     "metadata": {},
     "output_type": "execute_result"
    }
   ],
   "source": [
    "image = ee.ImageCollection('COPERNICUS/S5P/OFFL/L3_AER_AI') \\\n",
    "  .filterDate(startDate, endDate) \\\n",
    "  .map(lambda img: img.clip(aoi)) \\\n",
    "  .select('absorbing_aerosol_index') \\\n",
    "  .median()\n",
    "\n",
    "vis_params = {\n",
    "  'min': -1,\n",
    "  'max': 2.0,\n",
    "  'palette': ['black', 'blue', 'purple', 'cyan', 'green', 'yellow', 'red']\n",
    "};\n",
    "\n",
    "Map.addLayer(collection.mean(), vis_params, 'S5P Aerosol');\n",
    "Map.setCenter(center[0], center[1], 5);\n",
    "Map"
   ]
  },
  {
   "cell_type": "markdown",
   "id": "0a94fda2",
   "metadata": {},
   "source": [
    "## Uso del Suelo\n",
    "[ESA WorldCover 10m v100](https://developers.google.com/earth-engine/datasets/catalog/ESA_WorldCover_v100?hl=es-419)"
   ]
  },
  {
   "cell_type": "code",
   "execution_count": 42,
   "id": "b639ed94",
   "metadata": {},
   "outputs": [
    {
     "data": {
      "text/html": [
       "\n",
       "            <style>\n",
       "                .geemap-dark {\n",
       "                    --jp-widgets-color: white;\n",
       "                    --jp-widgets-label-color: white;\n",
       "                    --jp-ui-font-color1: white;\n",
       "                    --jp-layout-color2: #454545;\n",
       "                    background-color: #383838;\n",
       "                }\n",
       "\n",
       "                .geemap-dark .jupyter-button {\n",
       "                    --jp-layout-color3: #383838;\n",
       "                }\n",
       "\n",
       "                .geemap-colab {\n",
       "                    background-color: var(--colab-primary-surface-color, white);\n",
       "                }\n",
       "\n",
       "                .geemap-colab .jupyter-button {\n",
       "                    --jp-layout-color3: var(--colab-primary-surface-color, white);\n",
       "                }\n",
       "            </style>\n",
       "            "
      ],
      "text/plain": [
       "<IPython.core.display.HTML object>"
      ]
     },
     "metadata": {},
     "output_type": "display_data"
    },
    {
     "data": {
      "application/vnd.jupyter.widget-view+json": {
       "model_id": "e453d048c6794939930bf983c6673576",
       "version_major": 2,
       "version_minor": 0
      },
      "text/plain": [
       "Map(bottom=10173.0, center=[-27.49718971144657, -69.41671373479664], controls=(WidgetControl(options=['positio…"
      ]
     },
     "execution_count": 42,
     "metadata": {},
     "output_type": "execute_result"
    }
   ],
   "source": [
    "# Selecciona la imagen WorldCover 2020 y la recorta al área de interés\n",
    "image = ee.Image('ESA/WorldCover/v100/2020').clip(aoi)\n",
    "\n",
    "vis_params = {\n",
    "  'bands': ['Map'],\n",
    "}\n",
    "\n",
    "Map.setCenter(center[0], center[1], 5)\n",
    "\n",
    "Map.addLayer(image, vis_params, 'Landcover')\n",
    "Map"
   ]
  },
  {
   "cell_type": "code",
   "execution_count": 43,
   "id": "bcf8263d",
   "metadata": {},
   "outputs": [
    {
     "data": {
      "text/html": [
       "\n",
       "            <style>\n",
       "                .geemap-dark {\n",
       "                    --jp-widgets-color: white;\n",
       "                    --jp-widgets-label-color: white;\n",
       "                    --jp-ui-font-color1: white;\n",
       "                    --jp-layout-color2: #454545;\n",
       "                    background-color: #383838;\n",
       "                }\n",
       "\n",
       "                .geemap-dark .jupyter-button {\n",
       "                    --jp-layout-color3: #383838;\n",
       "                }\n",
       "\n",
       "                .geemap-colab {\n",
       "                    background-color: var(--colab-primary-surface-color, white);\n",
       "                }\n",
       "\n",
       "                .geemap-colab .jupyter-button {\n",
       "                    --jp-layout-color3: var(--colab-primary-surface-color, white);\n",
       "                }\n",
       "            </style>\n",
       "            "
      ],
      "text/plain": [
       "<IPython.core.display.HTML object>"
      ]
     },
     "metadata": {},
     "output_type": "display_data"
    }
   ],
   "source": [
    "descargar_imagen(image, vis_params, \"Uso del Suelo\")"
   ]
  },
  {
   "cell_type": "markdown",
   "id": "c58e66fe",
   "metadata": {},
   "source": [
    "## Urbanizacion Historica\n",
    "[Landsat 8-9](https://developers.google.com/earth-engine/datasets/catalog/LANDSAT_LC08_C02_T1_L2?hl=es-419)"
   ]
  },
  {
   "cell_type": "code",
   "execution_count": 40,
   "id": "90cd9258",
   "metadata": {},
   "outputs": [
    {
     "data": {
      "text/html": [
       "\n",
       "            <style>\n",
       "                .geemap-dark {\n",
       "                    --jp-widgets-color: white;\n",
       "                    --jp-widgets-label-color: white;\n",
       "                    --jp-ui-font-color1: white;\n",
       "                    --jp-layout-color2: #454545;\n",
       "                    background-color: #383838;\n",
       "                }\n",
       "\n",
       "                .geemap-dark .jupyter-button {\n",
       "                    --jp-layout-color3: #383838;\n",
       "                }\n",
       "\n",
       "                .geemap-colab {\n",
       "                    background-color: var(--colab-primary-surface-color, white);\n",
       "                }\n",
       "\n",
       "                .geemap-colab .jupyter-button {\n",
       "                    --jp-layout-color3: var(--colab-primary-surface-color, white);\n",
       "                }\n",
       "            </style>\n",
       "            "
      ],
      "text/plain": [
       "<IPython.core.display.HTML object>"
      ]
     },
     "metadata": {},
     "output_type": "display_data"
    },
    {
     "data": {
      "application/vnd.jupyter.widget-view+json": {
       "model_id": "e453d048c6794939930bf983c6673576",
       "version_major": 2,
       "version_minor": 0
      },
      "text/plain": [
       "Map(bottom=10173.0, center=[-27.49718971144657, -69.41671373479664], controls=(WidgetControl(options=['positio…"
      ]
     },
     "execution_count": 40,
     "metadata": {},
     "output_type": "execute_result"
    }
   ],
   "source": [
    "dataset = ee.ImageCollection('LANDSAT/LC08/C02/T1_L2').filterDate(\n",
    "    startDate, endDate\n",
    ").map(lambda img: img.clip(aoi))\n",
    "\n",
    "\n",
    "# Applies scaling factors.\n",
    "def apply_scale_factors(image):\n",
    "  optical_bands = image.select('SR_B.').multiply(0.0000275).add(-0.2)\n",
    "  thermal_bands = image.select('ST_B.*').multiply(0.00341802).add(149.0)\n",
    "  return image.addBands(optical_bands, None, True).addBands(\n",
    "      thermal_bands, None, True\n",
    "  )\n",
    "\n",
    "\n",
    "image = dataset.map(apply_scale_factors).median()\n",
    "\n",
    "vis_params = {\n",
    "    'bands': ['SR_B4', 'SR_B3', 'SR_B2'],\n",
    "    'min': 0.0,\n",
    "    'max': 0.3,\n",
    "}\n",
    "\n",
    "Map.set_center(center[0], center[1], 5)\n",
    "Map.add_layer(image, vis_params, 'True Color (432)')\n",
    "Map"
   ]
  }
 ],
 "metadata": {
  "kernelspec": {
   "display_name": "Python 3",
   "language": "python",
   "name": "python3"
  },
  "language_info": {
   "codemirror_mode": {
    "name": "ipython",
    "version": 3
   },
   "file_extension": ".py",
   "mimetype": "text/x-python",
   "name": "python",
   "nbconvert_exporter": "python",
   "pygments_lexer": "ipython3",
   "version": "3.12.9"
  }
 },
 "nbformat": 4,
 "nbformat_minor": 5
}
