{
 "cells": [
  {
   "cell_type": "code",
   "execution_count": 2,
   "id": "3c32fb3c",
   "metadata": {},
   "outputs": [
    {
     "data": {
      "text/html": [
       "\n",
       "            <style>\n",
       "                .geemap-dark {\n",
       "                    --jp-widgets-color: white;\n",
       "                    --jp-widgets-label-color: white;\n",
       "                    --jp-ui-font-color1: white;\n",
       "                    --jp-layout-color2: #454545;\n",
       "                    background-color: #383838;\n",
       "                }\n",
       "\n",
       "                .geemap-dark .jupyter-button {\n",
       "                    --jp-layout-color3: #383838;\n",
       "                }\n",
       "\n",
       "                .geemap-colab {\n",
       "                    background-color: var(--colab-primary-surface-color, white);\n",
       "                }\n",
       "\n",
       "                .geemap-colab .jupyter-button {\n",
       "                    --jp-layout-color3: var(--colab-primary-surface-color, white);\n",
       "                }\n",
       "            </style>\n",
       "            "
      ],
      "text/plain": [
       "<IPython.core.display.HTML object>"
      ]
     },
     "metadata": {},
     "output_type": "display_data"
    }
   ],
   "source": [
    "#Primero importamos algunas librerias\n",
    "import pandas as pd\n",
    "import geopandas as gpd\n",
    "import numpy as np\n",
    "import matplotlib.pyplot as plt\n",
    "import geemap,ee\n",
    "import matplotlib.colors as colors\n",
    "from shapely.geometry import shape, box\n",
    "from matplotlib import colors\n",
    "import matplotlib.patches as mpatches\n",
    "import matplotlib.pyplot as plt\n",
    "import os"
   ]
  },
  {
   "cell_type": "markdown",
   "id": "0281bfc3",
   "metadata": {},
   "source": [
    "Link de los datos: https://datos.gob.cl/dataset/establecimientos-de-salud-vigentes"
   ]
  },
  {
   "cell_type": "code",
   "execution_count": 3,
   "id": "4447cb73",
   "metadata": {},
   "outputs": [
    {
     "data": {
      "text/html": [
       "\n",
       "            <style>\n",
       "                .geemap-dark {\n",
       "                    --jp-widgets-color: white;\n",
       "                    --jp-widgets-label-color: white;\n",
       "                    --jp-ui-font-color1: white;\n",
       "                    --jp-layout-color2: #454545;\n",
       "                    background-color: #383838;\n",
       "                }\n",
       "\n",
       "                .geemap-dark .jupyter-button {\n",
       "                    --jp-layout-color3: #383838;\n",
       "                }\n",
       "\n",
       "                .geemap-colab {\n",
       "                    background-color: var(--colab-primary-surface-color, white);\n",
       "                }\n",
       "\n",
       "                .geemap-colab .jupyter-button {\n",
       "                    --jp-layout-color3: var(--colab-primary-surface-color, white);\n",
       "                }\n",
       "            </style>\n",
       "            "
      ],
      "text/plain": [
       "<IPython.core.display.HTML object>"
      ]
     },
     "metadata": {},
     "output_type": "display_data"
    }
   ],
   "source": [
    "#Abrimos el archivo\n",
    "gdf = gpd.read_file(os.path.join('Datos', 'establecimientos_20250527.csv'), encoding='utf-8')"
   ]
  },
  {
   "cell_type": "code",
   "execution_count": 4,
   "id": "b67ffdfe",
   "metadata": {},
   "outputs": [
    {
     "data": {
      "text/html": [
       "\n",
       "            <style>\n",
       "                .geemap-dark {\n",
       "                    --jp-widgets-color: white;\n",
       "                    --jp-widgets-label-color: white;\n",
       "                    --jp-ui-font-color1: white;\n",
       "                    --jp-layout-color2: #454545;\n",
       "                    background-color: #383838;\n",
       "                }\n",
       "\n",
       "                .geemap-dark .jupyter-button {\n",
       "                    --jp-layout-color3: #383838;\n",
       "                }\n",
       "\n",
       "                .geemap-colab {\n",
       "                    background-color: var(--colab-primary-surface-color, white);\n",
       "                }\n",
       "\n",
       "                .geemap-colab .jupyter-button {\n",
       "                    --jp-layout-color3: var(--colab-primary-surface-color, white);\n",
       "                }\n",
       "            </style>\n",
       "            "
      ],
      "text/plain": [
       "<IPython.core.display.HTML object>"
      ]
     },
     "metadata": {},
     "output_type": "display_data"
    },
    {
     "data": {
      "text/html": [
       "<div>\n",
       "<style scoped>\n",
       "    .dataframe tbody tr th:only-of-type {\n",
       "        vertical-align: middle;\n",
       "    }\n",
       "\n",
       "    .dataframe tbody tr th {\n",
       "        vertical-align: top;\n",
       "    }\n",
       "\n",
       "    .dataframe thead th {\n",
       "        text-align: right;\n",
       "    }\n",
       "</style>\n",
       "<table border=\"1\" class=\"dataframe\">\n",
       "  <thead>\n",
       "    <tr style=\"text-align: right;\">\n",
       "      <th></th>\n",
       "      <th>EstablecimientoCodigo</th>\n",
       "      <th>EstablecimientoGlosa</th>\n",
       "      <th>EstablecimientoCodigoAntiguo</th>\n",
       "      <th>EstablecimientoCodigoMadreAntiguo</th>\n",
       "      <th>EstablecimientoCodigoMadreNuevo</th>\n",
       "      <th>RegionCodigo</th>\n",
       "      <th>RegionGlosa</th>\n",
       "      <th>SeremiSaludCodigo_ServicioDeSaludCodigo</th>\n",
       "      <th>SeremiSaludGlosa_ServicioDeSaludGlosa</th>\n",
       "      <th>TipoPertenenciaEstabGlosa</th>\n",
       "      <th>...</th>\n",
       "      <th>TieneServicioUrgencia</th>\n",
       "      <th>TipoUrgencia</th>\n",
       "      <th>ClasificacionTipoSapu</th>\n",
       "      <th>Latitud</th>\n",
       "      <th>Longitud</th>\n",
       "      <th>TipoSistemaSaludGlosa</th>\n",
       "      <th>EstadoFuncionamiento</th>\n",
       "      <th>NivelComplejidadEstabGlosa</th>\n",
       "      <th>TipoAtencionEstabGlosa</th>\n",
       "      <th>FechaIncorporacion</th>\n",
       "    </tr>\n",
       "  </thead>\n",
       "  <tbody>\n",
       "    <tr>\n",
       "      <th>0</th>\n",
       "      <td>126704</td>\n",
       "      <td>Hospital Comunitario Cristina Calderón de Puer...</td>\n",
       "      <td>26-704</td>\n",
       "      <td></td>\n",
       "      <td></td>\n",
       "      <td>12</td>\n",
       "      <td>Región De Magallanes y de la Antártica Chilena</td>\n",
       "      <td>26</td>\n",
       "      <td>Servicio de Salud Magallanes</td>\n",
       "      <td>Perteneciente al Sistema Nacional de Servicios...</td>\n",
       "      <td>...</td>\n",
       "      <td>SI</td>\n",
       "      <td>Urgencia Hospitalaria (UEH)</td>\n",
       "      <td>No Aplica</td>\n",
       "      <td>-54.935209</td>\n",
       "      <td>-67.600393</td>\n",
       "      <td>Público</td>\n",
       "      <td>Vigente en Operación Habitual</td>\n",
       "      <td>Baja Complejidad</td>\n",
       "      <td>Atención Cerrada-Hospitalaria</td>\n",
       "      <td></td>\n",
       "    </tr>\n",
       "    <tr>\n",
       "      <th>1</th>\n",
       "      <td>126204</td>\n",
       "      <td>Hospital Naval (Puerto Williams)</td>\n",
       "      <td>26-204</td>\n",
       "      <td></td>\n",
       "      <td></td>\n",
       "      <td>12</td>\n",
       "      <td>Región De Magallanes y de la Antártica Chilena</td>\n",
       "      <td>12</td>\n",
       "      <td>SEREMI De Magallanes y la Antártica Chilena</td>\n",
       "      <td>No Perteneciente al Sistema Nacional de Servic...</td>\n",
       "      <td>...</td>\n",
       "      <td>SI</td>\n",
       "      <td>Urgencia Hospitalaria (UEH)</td>\n",
       "      <td>No Aplica</td>\n",
       "      <td>-54.934374</td>\n",
       "      <td>-67.608895</td>\n",
       "      <td>Fuerzas Armadas y de Orden (FFAA)</td>\n",
       "      <td>Vigente en Operación Habitual</td>\n",
       "      <td>Mediana Complejidad</td>\n",
       "      <td>Atención Cerrada-Hospitalaria</td>\n",
       "      <td>07-10-2022</td>\n",
       "    </tr>\n",
       "    <tr>\n",
       "      <th>2</th>\n",
       "      <td>126412</td>\n",
       "      <td>Posta de Salud Rural Cameron</td>\n",
       "      <td>26-412</td>\n",
       "      <td></td>\n",
       "      <td></td>\n",
       "      <td>12</td>\n",
       "      <td>Región De Magallanes y de la Antártica Chilena</td>\n",
       "      <td>26</td>\n",
       "      <td>Servicio de Salud Magallanes</td>\n",
       "      <td>Perteneciente al Sistema Nacional de Servicios...</td>\n",
       "      <td>...</td>\n",
       "      <td>NO</td>\n",
       "      <td>No Aplica</td>\n",
       "      <td>No Aplica</td>\n",
       "      <td>-53.640546</td>\n",
       "      <td>-69.645848</td>\n",
       "      <td>Público</td>\n",
       "      <td>Vigente en Operación Habitual</td>\n",
       "      <td>Baja Complejidad</td>\n",
       "      <td>Atención Abierta-Ambulatoria</td>\n",
       "      <td></td>\n",
       "    </tr>\n",
       "    <tr>\n",
       "      <th>3</th>\n",
       "      <td>126414</td>\n",
       "      <td>Posta de Salud Rural Agua Fresca</td>\n",
       "      <td>26-414</td>\n",
       "      <td></td>\n",
       "      <td></td>\n",
       "      <td>12</td>\n",
       "      <td>Región De Magallanes y de la Antártica Chilena</td>\n",
       "      <td>26</td>\n",
       "      <td>Servicio de Salud Magallanes</td>\n",
       "      <td>Perteneciente al Sistema Nacional de Servicios...</td>\n",
       "      <td>...</td>\n",
       "      <td>NO</td>\n",
       "      <td>No Aplica</td>\n",
       "      <td>No Aplica</td>\n",
       "      <td>-53.404244</td>\n",
       "      <td>-70.990158</td>\n",
       "      <td>Público</td>\n",
       "      <td>Vigente en Operación Habitual</td>\n",
       "      <td>Baja Complejidad</td>\n",
       "      <td>Atención Abierta-Ambulatoria</td>\n",
       "      <td></td>\n",
       "    </tr>\n",
       "    <tr>\n",
       "      <th>4</th>\n",
       "      <td>126102</td>\n",
       "      <td>Hospital Dr. Marco Antonio Chamorro ( Porvenir)</td>\n",
       "      <td>26-102</td>\n",
       "      <td></td>\n",
       "      <td></td>\n",
       "      <td>12</td>\n",
       "      <td>Región De Magallanes y de la Antártica Chilena</td>\n",
       "      <td>26</td>\n",
       "      <td>Servicio de Salud Magallanes</td>\n",
       "      <td>Perteneciente al Sistema Nacional de Servicios...</td>\n",
       "      <td>...</td>\n",
       "      <td>SI</td>\n",
       "      <td>Urgencia Hospitalaria (UEH)</td>\n",
       "      <td>No Aplica</td>\n",
       "      <td>-53.298162</td>\n",
       "      <td>-70.358384</td>\n",
       "      <td>Público</td>\n",
       "      <td>Vigente en Operación Habitual</td>\n",
       "      <td>Baja Complejidad</td>\n",
       "      <td>Atención Cerrada-Hospitalaria</td>\n",
       "      <td></td>\n",
       "    </tr>\n",
       "  </tbody>\n",
       "</table>\n",
       "<p>5 rows × 32 columns</p>\n",
       "</div>"
      ],
      "text/plain": [
       "  EstablecimientoCodigo                               EstablecimientoGlosa  \\\n",
       "0                126704  Hospital Comunitario Cristina Calderón de Puer...   \n",
       "1                126204                   Hospital Naval (Puerto Williams)   \n",
       "2                126412                       Posta de Salud Rural Cameron   \n",
       "3                126414                   Posta de Salud Rural Agua Fresca   \n",
       "4                126102    Hospital Dr. Marco Antonio Chamorro ( Porvenir)   \n",
       "\n",
       "  EstablecimientoCodigoAntiguo EstablecimientoCodigoMadreAntiguo  \\\n",
       "0                       26-704                                     \n",
       "1                       26-204                                     \n",
       "2                       26-412                                     \n",
       "3                       26-414                                     \n",
       "4                       26-102                                     \n",
       "\n",
       "  EstablecimientoCodigoMadreNuevo RegionCodigo  \\\n",
       "0                                           12   \n",
       "1                                           12   \n",
       "2                                           12   \n",
       "3                                           12   \n",
       "4                                           12   \n",
       "\n",
       "                                      RegionGlosa  \\\n",
       "0  Región De Magallanes y de la Antártica Chilena   \n",
       "1  Región De Magallanes y de la Antártica Chilena   \n",
       "2  Región De Magallanes y de la Antártica Chilena   \n",
       "3  Región De Magallanes y de la Antártica Chilena   \n",
       "4  Región De Magallanes y de la Antártica Chilena   \n",
       "\n",
       "  SeremiSaludCodigo_ServicioDeSaludCodigo  \\\n",
       "0                                      26   \n",
       "1                                      12   \n",
       "2                                      26   \n",
       "3                                      26   \n",
       "4                                      26   \n",
       "\n",
       "         SeremiSaludGlosa_ServicioDeSaludGlosa  \\\n",
       "0                 Servicio de Salud Magallanes   \n",
       "1  SEREMI De Magallanes y la Antártica Chilena   \n",
       "2                 Servicio de Salud Magallanes   \n",
       "3                 Servicio de Salud Magallanes   \n",
       "4                 Servicio de Salud Magallanes   \n",
       "\n",
       "                           TipoPertenenciaEstabGlosa  ...  \\\n",
       "0  Perteneciente al Sistema Nacional de Servicios...  ...   \n",
       "1  No Perteneciente al Sistema Nacional de Servic...  ...   \n",
       "2  Perteneciente al Sistema Nacional de Servicios...  ...   \n",
       "3  Perteneciente al Sistema Nacional de Servicios...  ...   \n",
       "4  Perteneciente al Sistema Nacional de Servicios...  ...   \n",
       "\n",
       "  TieneServicioUrgencia                 TipoUrgencia ClasificacionTipoSapu  \\\n",
       "0                    SI  Urgencia Hospitalaria (UEH)             No Aplica   \n",
       "1                    SI  Urgencia Hospitalaria (UEH)             No Aplica   \n",
       "2                    NO                    No Aplica             No Aplica   \n",
       "3                    NO                    No Aplica             No Aplica   \n",
       "4                    SI  Urgencia Hospitalaria (UEH)             No Aplica   \n",
       "\n",
       "      Latitud    Longitud              TipoSistemaSaludGlosa  \\\n",
       "0  -54.935209  -67.600393                            Público   \n",
       "1  -54.934374  -67.608895  Fuerzas Armadas y de Orden (FFAA)   \n",
       "2  -53.640546  -69.645848                            Público   \n",
       "3  -53.404244  -70.990158                            Público   \n",
       "4  -53.298162  -70.358384                            Público   \n",
       "\n",
       "            EstadoFuncionamiento NivelComplejidadEstabGlosa  \\\n",
       "0  Vigente en Operación Habitual           Baja Complejidad   \n",
       "1  Vigente en Operación Habitual        Mediana Complejidad   \n",
       "2  Vigente en Operación Habitual           Baja Complejidad   \n",
       "3  Vigente en Operación Habitual           Baja Complejidad   \n",
       "4  Vigente en Operación Habitual           Baja Complejidad   \n",
       "\n",
       "          TipoAtencionEstabGlosa FechaIncorporacion  \n",
       "0  Atención Cerrada-Hospitalaria                     \n",
       "1  Atención Cerrada-Hospitalaria         07-10-2022  \n",
       "2   Atención Abierta-Ambulatoria                     \n",
       "3   Atención Abierta-Ambulatoria                     \n",
       "4  Atención Cerrada-Hospitalaria                     \n",
       "\n",
       "[5 rows x 32 columns]"
      ]
     },
     "execution_count": 4,
     "metadata": {},
     "output_type": "execute_result"
    }
   ],
   "source": [
    "gdf.head()"
   ]
  },
  {
   "cell_type": "code",
   "execution_count": 5,
   "id": "c568275e",
   "metadata": {},
   "outputs": [
    {
     "data": {
      "text/html": [
       "\n",
       "            <style>\n",
       "                .geemap-dark {\n",
       "                    --jp-widgets-color: white;\n",
       "                    --jp-widgets-label-color: white;\n",
       "                    --jp-ui-font-color1: white;\n",
       "                    --jp-layout-color2: #454545;\n",
       "                    background-color: #383838;\n",
       "                }\n",
       "\n",
       "                .geemap-dark .jupyter-button {\n",
       "                    --jp-layout-color3: #383838;\n",
       "                }\n",
       "\n",
       "                .geemap-colab {\n",
       "                    background-color: var(--colab-primary-surface-color, white);\n",
       "                }\n",
       "\n",
       "                .geemap-colab .jupyter-button {\n",
       "                    --jp-layout-color3: var(--colab-primary-surface-color, white);\n",
       "                }\n",
       "            </style>\n",
       "            "
      ],
      "text/plain": [
       "<IPython.core.display.HTML object>"
      ]
     },
     "metadata": {},
     "output_type": "display_data"
    },
    {
     "data": {
      "text/plain": [
       "4893"
      ]
     },
     "execution_count": 5,
     "metadata": {},
     "output_type": "execute_result"
    }
   ],
   "source": [
    "len(gdf)"
   ]
  },
  {
   "cell_type": "code",
   "execution_count": 6,
   "id": "f525f651",
   "metadata": {},
   "outputs": [
    {
     "data": {
      "text/html": [
       "\n",
       "            <style>\n",
       "                .geemap-dark {\n",
       "                    --jp-widgets-color: white;\n",
       "                    --jp-widgets-label-color: white;\n",
       "                    --jp-ui-font-color1: white;\n",
       "                    --jp-layout-color2: #454545;\n",
       "                    background-color: #383838;\n",
       "                }\n",
       "\n",
       "                .geemap-dark .jupyter-button {\n",
       "                    --jp-layout-color3: #383838;\n",
       "                }\n",
       "\n",
       "                .geemap-colab {\n",
       "                    background-color: var(--colab-primary-surface-color, white);\n",
       "                }\n",
       "\n",
       "                .geemap-colab .jupyter-button {\n",
       "                    --jp-layout-color3: var(--colab-primary-surface-color, white);\n",
       "                }\n",
       "            </style>\n",
       "            "
      ],
      "text/plain": [
       "<IPython.core.display.HTML object>"
      ]
     },
     "metadata": {},
     "output_type": "display_data"
    },
    {
     "data": {
      "text/plain": [
       "4705"
      ]
     },
     "execution_count": 6,
     "metadata": {},
     "output_type": "execute_result"
    }
   ],
   "source": [
    "import pandas as pd\n",
    "\n",
    "#Veamos los datos \n",
    "len(gdf[pd.to_numeric(gdf[\"Latitud\"], errors='coerce').notnull()])"
   ]
  },
  {
   "cell_type": "code",
   "execution_count": 7,
   "id": "1a10fe55",
   "metadata": {},
   "outputs": [
    {
     "data": {
      "text/html": [
       "\n",
       "            <style>\n",
       "                .geemap-dark {\n",
       "                    --jp-widgets-color: white;\n",
       "                    --jp-widgets-label-color: white;\n",
       "                    --jp-ui-font-color1: white;\n",
       "                    --jp-layout-color2: #454545;\n",
       "                    background-color: #383838;\n",
       "                }\n",
       "\n",
       "                .geemap-dark .jupyter-button {\n",
       "                    --jp-layout-color3: #383838;\n",
       "                }\n",
       "\n",
       "                .geemap-colab {\n",
       "                    background-color: var(--colab-primary-surface-color, white);\n",
       "                }\n",
       "\n",
       "                .geemap-colab .jupyter-button {\n",
       "                    --jp-layout-color3: var(--colab-primary-surface-color, white);\n",
       "                }\n",
       "            </style>\n",
       "            "
      ],
      "text/plain": [
       "<IPython.core.display.HTML object>"
      ]
     },
     "metadata": {},
     "output_type": "display_data"
    }
   ],
   "source": [
    "#Pasamos las columnas de latitud y longitud a tipo float usando pd.to_numeric para evitar errores\n",
    "gdf['Latitud'] = pd.to_numeric(gdf['Latitud'], errors='coerce')\n",
    "gdf['Longitud'] = pd.to_numeric(gdf['Longitud'], errors='coerce')"
   ]
  },
  {
   "cell_type": "code",
   "execution_count": 8,
   "id": "bcd4d7c5",
   "metadata": {},
   "outputs": [
    {
     "data": {
      "text/html": [
       "\n",
       "            <style>\n",
       "                .geemap-dark {\n",
       "                    --jp-widgets-color: white;\n",
       "                    --jp-widgets-label-color: white;\n",
       "                    --jp-ui-font-color1: white;\n",
       "                    --jp-layout-color2: #454545;\n",
       "                    background-color: #383838;\n",
       "                }\n",
       "\n",
       "                .geemap-dark .jupyter-button {\n",
       "                    --jp-layout-color3: #383838;\n",
       "                }\n",
       "\n",
       "                .geemap-colab {\n",
       "                    background-color: var(--colab-primary-surface-color, white);\n",
       "                }\n",
       "\n",
       "                .geemap-colab .jupyter-button {\n",
       "                    --jp-layout-color3: var(--colab-primary-surface-color, white);\n",
       "                }\n",
       "            </style>\n",
       "            "
      ],
      "text/plain": [
       "<IPython.core.display.HTML object>"
      ]
     },
     "metadata": {},
     "output_type": "display_data"
    },
    {
     "data": {
      "image/png": "[encoded data removed]",
      "text/plain": [
       "<Figure size 1000x1000 with 1 Axes>"
      ]
     },
     "metadata": {},
     "output_type": "display_data"
    }
   ],
   "source": [
    "import geopandas as gpd\n",
    "import matplotlib.pyplot as plt\n",
    "from shapely.geometry import Point\n",
    "\n",
    "# Crear geometrías a partir de latitud y longitud\n",
    "gdf['geometry'] = gdf.apply(lambda row: Point(row['Longitud'], row['Latitud']), axis=1)\n",
    "\n",
    "# Convertir a GeoDataFrame\n",
    "geo = gpd.GeoDataFrame(gdf, geometry='geometry', crs=\"EPSG:4326\")\n",
    "\n",
    "# Plotear\n",
    "geo.plot(marker='o', color='red', markersize=5, figsize=(10, 10))\n",
    "plt.title(\"Puntos geolocalizados\")\n",
    "plt.xlabel(\"Longitud\")\n",
    "plt.ylabel(\"Latitud\")\n",
    "plt.grid(True)\n",
    "plt.show()\n"
   ]
  },
  {
   "cell_type": "markdown",
   "id": "a6d927b5",
   "metadata": {},
   "source": [
    "# Parte contaminacion luminica"
   ]
  },
  {
   "cell_type": "code",
   "execution_count": 9,
   "id": "a4eb544f",
   "metadata": {},
   "outputs": [
    {
     "data": {
      "text/html": [
       "\n",
       "            <style>\n",
       "                .geemap-dark {\n",
       "                    --jp-widgets-color: white;\n",
       "                    --jp-widgets-label-color: white;\n",
       "                    --jp-ui-font-color1: white;\n",
       "                    --jp-layout-color2: #454545;\n",
       "                    background-color: #383838;\n",
       "                }\n",
       "\n",
       "                .geemap-dark .jupyter-button {\n",
       "                    --jp-layout-color3: #383838;\n",
       "                }\n",
       "\n",
       "                .geemap-colab {\n",
       "                    background-color: var(--colab-primary-surface-color, white);\n",
       "                }\n",
       "\n",
       "                .geemap-colab .jupyter-button {\n",
       "                    --jp-layout-color3: var(--colab-primary-surface-color, white);\n",
       "                }\n",
       "            </style>\n",
       "            "
      ],
      "text/plain": [
       "<IPython.core.display.HTML object>"
      ]
     },
     "metadata": {},
     "output_type": "display_data"
    }
   ],
   "source": [
    "ee.Authenticate()\n",
    "ee.Initialize(project='ee-ccamz2')\n"
   ]
  },
  {
   "cell_type": "code",
   "execution_count": 21,
   "id": "80629532",
   "metadata": {},
   "outputs": [
    {
     "data": {
      "text/html": [
       "\n",
       "            <style>\n",
       "                .geemap-dark {\n",
       "                    --jp-widgets-color: white;\n",
       "                    --jp-widgets-label-color: white;\n",
       "                    --jp-ui-font-color1: white;\n",
       "                    --jp-layout-color2: #454545;\n",
       "                    background-color: #383838;\n",
       "                }\n",
       "\n",
       "                .geemap-dark .jupyter-button {\n",
       "                    --jp-layout-color3: #383838;\n",
       "                }\n",
       "\n",
       "                .geemap-colab {\n",
       "                    background-color: var(--colab-primary-surface-color, white);\n",
       "                }\n",
       "\n",
       "                .geemap-colab .jupyter-button {\n",
       "                    --jp-layout-color3: var(--colab-primary-surface-color, white);\n",
       "                }\n",
       "            </style>\n",
       "            "
      ],
      "text/plain": [
       "<IPython.core.display.HTML object>"
      ]
     },
     "metadata": {},
     "output_type": "display_data"
    }
   ],
   "source": [
    "#Elegimos una fecha\n",
    "fecha = '2012-01-01'\n",
    "end = '2012-1-31'\n"
   ]
  },
  {
   "cell_type": "code",
   "execution_count": 22,
   "id": "13e89a65",
   "metadata": {},
   "outputs": [
    {
     "data": {
      "text/html": [
       "\n",
       "            <style>\n",
       "                .geemap-dark {\n",
       "                    --jp-widgets-color: white;\n",
       "                    --jp-widgets-label-color: white;\n",
       "                    --jp-ui-font-color1: white;\n",
       "                    --jp-layout-color2: #454545;\n",
       "                    background-color: #383838;\n",
       "                }\n",
       "\n",
       "                .geemap-dark .jupyter-button {\n",
       "                    --jp-layout-color3: #383838;\n",
       "                }\n",
       "\n",
       "                .geemap-colab {\n",
       "                    background-color: var(--colab-primary-surface-color, white);\n",
       "                }\n",
       "\n",
       "                .geemap-colab .jupyter-button {\n",
       "                    --jp-layout-color3: var(--colab-primary-surface-color, white);\n",
       "                }\n",
       "            </style>\n",
       "            "
      ],
      "text/plain": [
       "<IPython.core.display.HTML object>"
      ]
     },
     "metadata": {},
     "output_type": "display_data"
    }
   ],
   "source": [
    "collection = (ee.ImageCollection(\"NOAA/DMSP-OLS/NIGHTTIME_LIGHTS\").filterDate(fecha, end))"
   ]
  },
  {
   "cell_type": "code",
   "execution_count": 23,
   "id": "d44925c1",
   "metadata": {},
   "outputs": [
    {
     "data": {
      "text/html": [
       "\n",
       "            <style>\n",
       "                .geemap-dark {\n",
       "                    --jp-widgets-color: white;\n",
       "                    --jp-widgets-label-color: white;\n",
       "                    --jp-ui-font-color1: white;\n",
       "                    --jp-layout-color2: #454545;\n",
       "                    background-color: #383838;\n",
       "                }\n",
       "\n",
       "                .geemap-dark .jupyter-button {\n",
       "                    --jp-layout-color3: #383838;\n",
       "                }\n",
       "\n",
       "                .geemap-colab {\n",
       "                    background-color: var(--colab-primary-surface-color, white);\n",
       "                }\n",
       "\n",
       "                .geemap-colab .jupyter-button {\n",
       "                    --jp-layout-color3: var(--colab-primary-surface-color, white);\n",
       "                }\n",
       "            </style>\n",
       "            "
      ],
      "text/plain": [
       "<IPython.core.display.HTML object>"
      ]
     },
     "metadata": {},
     "output_type": "display_data"
    },
    {
     "name": "stdout",
     "output_type": "stream",
     "text": [
      "{'type': 'ImageCollection', 'bands': [], 'version': 1641990587059951, 'id': 'NOAA/DMSP-OLS/NIGHTTIME_LIGHTS', 'properties': {'system:visualization_0_min': '3.0', 'type_name': 'ImageCollection', 'keywords': ['dmsp', 'eog', 'imagery', 'lights', 'nighttime', 'ols', 'visible', 'yearly'], 'thumb': 'https://mw1.google.com/ges/dd/images/NIGHTTIME_thumb.png', 'description': '<p>The Defense Meteorological Program (DMSP) Operational Line-Scan System\\n(OLS) has a unique capability to detect visible and near-infrared (VNIR)\\nemission sources at night.</p><p>Version 4 of the DMSP-OLS Nighttime Lights Time Series consists of\\ncloud-free composites made using all the available archived DMSP-OLS smooth\\nresolution data for calendar years. In cases where two satellites were\\ncollecting data, two composites were produced.</p><p><b>Provider: <a href=\"https://eogdata.mines.edu/dmsp/downloadV4composites.html\">Earth Observation Group, Payne Institute for Public Policy, Colorado School of Mines</a></b><br><p><b>Resolution</b><br>927.67 meters\\n</p><p><b>Bands</b><table class=\"eecat\"><tr><th scope=\"col\">Name</th><th scope=\"col\">Description</th></tr><tr><td>avg_vis</td><td><p>The average of the visible band digital number values with no further filtering.</p></td></tr><tr><td>stable_lights</td><td><p>The cleaned up avg_vis contains the lights from cities,\\ntowns, and other sites with persistent lighting, including gas flares.\\nEphemeral events, such as fires, have been discarded. The background noise\\nwas identified and replaced with values of zero.</p></td></tr><tr><td>cf_cvg</td><td><p>Cloud-free coverages tally the total number of observations\\nthat went into each 30-arc second grid cell. This band can be used to\\nidentify areas with low numbers of observations where the quality is\\nreduced.</p></td></tr><tr><td>avg_lights_x_pct</td><td><p>The average visible band digital number (DN) of cloud-free\\nlight detections multiplied by the percent frequency of light detection.\\nThe inclusion of the percent frequency of detection term normalizes the\\nresulting digital values for variations in the persistence of lighting.\\nFor instance, the value for a light only detected half the time is\\ndiscounted by 50%. Note that this product contains detections from fires\\nand a variable amount of background noise.</p></td></tr></table><p><sup>Image and data processing by NOAA&#39;s National Geophysical Data Center.\\nDMSP data collected by US Air Force Weather Agency.</sup><p><b>Terms of Use</b><br><p>NOAA data, information, and products, regardless of the method of delivery,\\nare not subject to copyright and carry no restrictions on their subsequent\\nuse by the public. Once obtained, they may be put to any lawful use. The\\nforgoing data is in the public domain and is being provided without\\nrestriction on use and distribution.</p><style>\\n  table.eecat {\\n  border: 1px solid black;\\n  border-collapse: collapse;\\n  font-size: 13px;\\n  }\\n  table.eecat td, tr, th {\\n  text-align: left; vertical-align: top;\\n  border: 1px solid gray; padding: 3px;\\n  }\\n  td.nobreak { white-space: nowrap; }\\n</style>', 'source_tags': ['eog', 'dmsp', 'ols', 'yearly'], 'visualization_0_max': '60.0', 'title': 'DMSP OLS: Nighttime Lights Time Series Version 4, Defense Meteorological Program Operational Linescan System', 'product_tags': ['nighttime', 'visible', 'lights', 'imagery'], 'provider': 'Earth Observation Group, Payne Institute for Public Policy, Colorado School of Mines', 'visualization_0_min': '3.0', 'visualization_0_name': 'Nighttime Lights', 'date_range': [694224000000, 1388534400000], 'period_mapping': [694224000000, 725846400000, 725846400000, 757382400000, 757382400000, 788918400000, 788918400000, 820454400000, 820454400000, 852076800000, 852076800000, 883612800000, 883612800000, 915148800000, 915148800000, 946684800000, 946684800000, 978307200000, 978307200000, 1009843200000, 1009843200000, 1041379200000, 1041379200000, 1072915200000, 1072915200000, 1104537600000, 1104537600000, 1136073600000, 1136073600000, 1167609600000, 1167609600000, 1199145600000, 1199145600000, 1230768000000, 1230768000000, 1262304000000, 1262304000000, 1293840000000, 1293840000000, 1325376000000, 1325376000000, 1356998400000, 1356998400000, 1388534400000], 'period': 0, 'system:visualization_0_bands': 'avg_vis', 'system:is_global': 1, 'provider_url': 'https://eogdata.mines.edu/dmsp/downloadV4composites.html', 'sample': 'https://mw1.google.com/ges/dd/images/NIGHTTIME_sample.png', 'tags': ['dmsp', 'eog', 'imagery', 'lights', 'nighttime', 'ols', 'visible', 'yearly'], 'system:visualization_0_max': '60.0', 'system:visualization_0_name': 'Nighttime Lights', 'visualization_0_bands': 'avg_vis'}, 'features': [{'type': 'Image', 'bands': [{'id': 'avg_vis', 'data_type': {'type': 'PixelType', 'precision': 'int', 'min': 0, 'max': 255}, 'dimensions': [43201, 16801], 'crs': 'EPSG:4326', 'crs_transform': [0.0083333333, 0, -180.00416666665, 0, -0.0083333333, 75.00416666665]}, {'id': 'stable_lights', 'data_type': {'type': 'PixelType', 'precision': 'int', 'min': 0, 'max': 255}, 'dimensions': [43201, 16801], 'crs': 'EPSG:4326', 'crs_transform': [0.0083333333, 0, -180.00416666665, 0, -0.0083333333, 75.00416666665]}, {'id': 'cf_cvg', 'data_type': {'type': 'PixelType', 'precision': 'int', 'min': 0, 'max': 255}, 'dimensions': [43201, 16801], 'crs': 'EPSG:4326', 'crs_transform': [0.0083333333, 0, -180.00416666665, 0, -0.0083333333, 75.00416666665]}, {'id': 'avg_lights_x_pct', 'data_type': {'type': 'PixelType', 'precision': 'float'}, 'dimensions': [43201, 16801], 'crs': 'EPSG:4326', 'crs_transform': [0.0083333333, 0, -180.00416666665, 0, -0.0083333333, 75.00416666665]}], 'version': 1504844073185976, 'id': 'NOAA/DMSP-OLS/NIGHTTIME_LIGHTS/F182012', 'properties': {'system:time_start': 1325376000000, 'system:time_end': 1356998400000, 'system:asset_size': 1538263570, 'system:index': 'F182012'}}]}\n"
     ]
    }
   ],
   "source": [
    "#Mostramos la coleccion\n",
    "print(collection.getInfo())"
   ]
  },
  {
   "cell_type": "code",
   "execution_count": 24,
   "id": "8a0c9084",
   "metadata": {},
   "outputs": [
    {
     "data": {
      "text/html": [
       "\n",
       "            <style>\n",
       "                .geemap-dark {\n",
       "                    --jp-widgets-color: white;\n",
       "                    --jp-widgets-label-color: white;\n",
       "                    --jp-ui-font-color1: white;\n",
       "                    --jp-layout-color2: #454545;\n",
       "                    background-color: #383838;\n",
       "                }\n",
       "\n",
       "                .geemap-dark .jupyter-button {\n",
       "                    --jp-layout-color3: #383838;\n",
       "                }\n",
       "\n",
       "                .geemap-colab {\n",
       "                    background-color: var(--colab-primary-surface-color, white);\n",
       "                }\n",
       "\n",
       "                .geemap-colab .jupyter-button {\n",
       "                    --jp-layout-color3: var(--colab-primary-surface-color, white);\n",
       "                }\n",
       "            </style>\n",
       "            "
      ],
      "text/plain": [
       "<IPython.core.display.HTML object>"
      ]
     },
     "metadata": {},
     "output_type": "display_data"
    },
    {
     "data": {
      "application/vnd.jupyter.widget-view+json": {
       "model_id": "7b4549f1fea247d388e371b4e75adc45",
       "version_major": 2,
       "version_minor": 0
      },
      "text/plain": [
       "Map(center=[20, 0], controls=(WidgetControl(options=['position', 'transparent_bg'], widget=SearchDataGUI(child…"
      ]
     },
     "execution_count": 24,
     "metadata": {},
     "output_type": "execute_result"
    }
   ],
   "source": [
    "# Selecciona la imagen promedio del año\n",
    "image = collection.mean()\n",
    "\n",
    "# Selecciona la banda de intensidad de luces nocturnas\n",
    "image_vis = image.select('stable_lights')\n",
    "\n",
    "# Define parámetros de visualización\n",
    "vis_params = {\n",
    "    'min': 0,\n",
    "    'max': 63,\n",
    "    'palette': ['000000', 'ffff00', 'ffffff']\n",
    "}\n",
    "\n",
    "# Crea un mapa interactivo\n",
    "Map = geemap.Map(center=[20, 0], zoom=2)\n",
    "Map.addLayer(image_vis, vis_params, 'Luces nocturnas (promedio)')\n",
    "Map.addLayerControl()\n",
    "Map"
   ]
  }
 ],
 "metadata": {
  "kernelspec": {
   "display_name": "Python 3",
   "language": "python",
   "name": "python3"
  },
  "language_info": {
   "codemirror_mode": {
    "name": "ipython",
    "version": 3
   },
   "file_extension": ".py",
   "mimetype": "text/x-python",
   "name": "python",
   "nbconvert_exporter": "python",
   "pygments_lexer": "ipython3",
   "version": "3.11.2"
  }
 },
 "nbformat": 4,
 "nbformat_minor": 5
}
